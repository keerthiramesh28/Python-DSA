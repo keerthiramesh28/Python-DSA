{
 "cells": [
  {
   "cell_type": "code",
   "execution_count": 1,
   "id": "35d442f6",
   "metadata": {},
   "outputs": [],
   "source": [
    "import numpy as np\n",
    "import pandas as pd\n",
    "import matplotlib.pyplot as plt"
   ]
  },
  {
   "cell_type": "code",
   "execution_count": 2,
   "id": "005a0280",
   "metadata": {},
   "outputs": [],
   "source": [
    "data = pd.read_excel(r'C:\\Users\\HP\\Desktop\\Python DSA\\E-commerce.xlsx')"
   ]
  },
  {
   "cell_type": "code",
   "execution_count": 3,
   "id": "b286d150",
   "metadata": {},
   "outputs": [
    {
     "data": {
      "text/html": [
       "<div>\n",
       "<style scoped>\n",
       "    .dataframe tbody tr th:only-of-type {\n",
       "        vertical-align: middle;\n",
       "    }\n",
       "\n",
       "    .dataframe tbody tr th {\n",
       "        vertical-align: top;\n",
       "    }\n",
       "\n",
       "    .dataframe thead th {\n",
       "        text-align: right;\n",
       "    }\n",
       "</style>\n",
       "<table border=\"1\" class=\"dataframe\">\n",
       "  <thead>\n",
       "    <tr style=\"text-align: right;\">\n",
       "      <th></th>\n",
       "      <th>server_time</th>\n",
       "      <th>device_type</th>\n",
       "      <th>user_id</th>\n",
       "      <th>session_id</th>\n",
       "      <th>item_id</th>\n",
       "      <th>item_price</th>\n",
       "      <th>category</th>\n",
       "      <th>product_type</th>\n",
       "      <th>impression_time</th>\n",
       "      <th>app_code</th>\n",
       "      <th>os_version</th>\n",
       "      <th>is_4G</th>\n",
       "      <th>is_click</th>\n",
       "    </tr>\n",
       "  </thead>\n",
       "  <tbody>\n",
       "    <tr>\n",
       "      <th>0</th>\n",
       "      <td>2018-10-18 14:27:00</td>\n",
       "      <td>android</td>\n",
       "      <td>87862.0</td>\n",
       "      <td>268465.0</td>\n",
       "      <td>44459.0</td>\n",
       "      <td>4602.0</td>\n",
       "      <td>11.0</td>\n",
       "      <td>3040.0</td>\n",
       "      <td>2018-11-15 00:00:00</td>\n",
       "      <td>422.0</td>\n",
       "      <td>old</td>\n",
       "      <td>0</td>\n",
       "      <td>0</td>\n",
       "    </tr>\n",
       "    <tr>\n",
       "      <th>1</th>\n",
       "      <td>2018-10-18 14:27:00</td>\n",
       "      <td>android</td>\n",
       "      <td>63410.0</td>\n",
       "      <td>268465.0</td>\n",
       "      <td>44459.0</td>\n",
       "      <td>3513.0</td>\n",
       "      <td>12.0</td>\n",
       "      <td>6822.0</td>\n",
       "      <td>2018-11-15 00:01:00</td>\n",
       "      <td>467.0</td>\n",
       "      <td>latest</td>\n",
       "      <td>1</td>\n",
       "      <td>1</td>\n",
       "    </tr>\n",
       "    <tr>\n",
       "      <th>2</th>\n",
       "      <td>2018-10-18 14:43:00</td>\n",
       "      <td>android</td>\n",
       "      <td>71748.0</td>\n",
       "      <td>268465.0</td>\n",
       "      <td>44459.0</td>\n",
       "      <td>825.0</td>\n",
       "      <td>17.0</td>\n",
       "      <td>1619.0</td>\n",
       "      <td>2018-11-15 00:02:00</td>\n",
       "      <td>259.0</td>\n",
       "      <td>intermediate</td>\n",
       "      <td>1</td>\n",
       "      <td>0</td>\n",
       "    </tr>\n",
       "    <tr>\n",
       "      <th>3</th>\n",
       "      <td>2018-10-18 14:46:00</td>\n",
       "      <td>android</td>\n",
       "      <td>69209.0</td>\n",
       "      <td>268465.0</td>\n",
       "      <td>44459.0</td>\n",
       "      <td>2355.0</td>\n",
       "      <td>13.0</td>\n",
       "      <td>5264.0</td>\n",
       "      <td>2018-11-15 00:02:00</td>\n",
       "      <td>244.0</td>\n",
       "      <td>latest</td>\n",
       "      <td>1</td>\n",
       "      <td>0</td>\n",
       "    </tr>\n",
       "    <tr>\n",
       "      <th>4</th>\n",
       "      <td>2018-10-18 14:46:00</td>\n",
       "      <td>android</td>\n",
       "      <td>62873.0</td>\n",
       "      <td>268465.0</td>\n",
       "      <td>44459.0</td>\n",
       "      <td>1267.0</td>\n",
       "      <td>17.0</td>\n",
       "      <td>10239.0</td>\n",
       "      <td>2018-11-15 00:02:00</td>\n",
       "      <td>473.0</td>\n",
       "      <td>latest</td>\n",
       "      <td>0</td>\n",
       "      <td>0</td>\n",
       "    </tr>\n",
       "  </tbody>\n",
       "</table>\n",
       "</div>"
      ],
      "text/plain": [
       "          server_time device_type  user_id  session_id  item_id  item_price  \\\n",
       "0 2018-10-18 14:27:00     android  87862.0    268465.0  44459.0      4602.0   \n",
       "1 2018-10-18 14:27:00     android  63410.0    268465.0  44459.0      3513.0   \n",
       "2 2018-10-18 14:43:00     android  71748.0    268465.0  44459.0       825.0   \n",
       "3 2018-10-18 14:46:00     android  69209.0    268465.0  44459.0      2355.0   \n",
       "4 2018-10-18 14:46:00     android  62873.0    268465.0  44459.0      1267.0   \n",
       "\n",
       "   category  product_type     impression_time  app_code    os_version  is_4G  \\\n",
       "0      11.0        3040.0 2018-11-15 00:00:00     422.0           old      0   \n",
       "1      12.0        6822.0 2018-11-15 00:01:00     467.0        latest      1   \n",
       "2      17.0        1619.0 2018-11-15 00:02:00     259.0  intermediate      1   \n",
       "3      13.0        5264.0 2018-11-15 00:02:00     244.0        latest      1   \n",
       "4      17.0       10239.0 2018-11-15 00:02:00     473.0        latest      0   \n",
       "\n",
       "   is_click  \n",
       "0         0  \n",
       "1         1  \n",
       "2         0  \n",
       "3         0  \n",
       "4         0  "
      ]
     },
     "execution_count": 3,
     "metadata": {},
     "output_type": "execute_result"
    }
   ],
   "source": [
    "data.head()"
   ]
  },
  {
   "cell_type": "code",
   "execution_count": 4,
   "id": "13bd8b4b",
   "metadata": {},
   "outputs": [
    {
     "data": {
      "text/plain": [
       "(2025, 13)"
      ]
     },
     "execution_count": 4,
     "metadata": {},
     "output_type": "execute_result"
    }
   ],
   "source": [
    "data.shape"
   ]
  },
  {
   "cell_type": "markdown",
   "id": "a924e7ce",
   "metadata": {},
   "source": [
    "# Missing value handling"
   ]
  },
  {
   "cell_type": "code",
   "execution_count": 5,
   "id": "43bd815f",
   "metadata": {},
   "outputs": [
    {
     "data": {
      "text/plain": [
       "server_time        0\n",
       "device_type        0\n",
       "user_id            3\n",
       "session_id         1\n",
       "item_id            2\n",
       "item_price         1\n",
       "category           6\n",
       "product_type       1\n",
       "impression_time    0\n",
       "app_code           1\n",
       "os_version         9\n",
       "is_4G              0\n",
       "is_click           0\n",
       "dtype: int64"
      ]
     },
     "execution_count": 5,
     "metadata": {},
     "output_type": "execute_result"
    }
   ],
   "source": [
    "data.isna().sum()"
   ]
  },
  {
   "cell_type": "code",
   "execution_count": 6,
   "id": "c64d7522",
   "metadata": {},
   "outputs": [],
   "source": [
    "for col in ['user_id', 'session_id', 'item_id','item_price', 'category', 'product_type', 'impression_time','app_code']:\n",
    "    data[col]=data[col].fillna(data[col].median())"
   ]
  },
  {
   "cell_type": "code",
   "execution_count": 7,
   "id": "9a5388c5",
   "metadata": {},
   "outputs": [],
   "source": [
    "data['os_version']=data['os_version'].fillna(data['os_version'].mode()[0])"
   ]
  },
  {
   "cell_type": "code",
   "execution_count": 8,
   "id": "d8bc459b",
   "metadata": {},
   "outputs": [
    {
     "data": {
      "text/plain": [
       "server_time        0\n",
       "device_type        0\n",
       "user_id            0\n",
       "session_id         0\n",
       "item_id            0\n",
       "item_price         0\n",
       "category           0\n",
       "product_type       0\n",
       "impression_time    0\n",
       "app_code           0\n",
       "os_version         0\n",
       "is_4G              0\n",
       "is_click           0\n",
       "dtype: int64"
      ]
     },
     "execution_count": 8,
     "metadata": {},
     "output_type": "execute_result"
    }
   ],
   "source": [
    "data.isna().sum()"
   ]
  },
  {
   "cell_type": "markdown",
   "id": "26728f72",
   "metadata": {},
   "source": [
    "# Outlier Handling"
   ]
  },
  {
   "cell_type": "code",
   "execution_count": 56,
   "id": "38639e45",
   "metadata": {},
   "outputs": [
    {
     "data": {
      "text/html": [
       "<div>\n",
       "<style scoped>\n",
       "    .dataframe tbody tr th:only-of-type {\n",
       "        vertical-align: middle;\n",
       "    }\n",
       "\n",
       "    .dataframe tbody tr th {\n",
       "        vertical-align: top;\n",
       "    }\n",
       "\n",
       "    .dataframe thead th {\n",
       "        text-align: right;\n",
       "    }\n",
       "</style>\n",
       "<table border=\"1\" class=\"dataframe\">\n",
       "  <thead>\n",
       "    <tr style=\"text-align: right;\">\n",
       "      <th></th>\n",
       "      <th>user_id</th>\n",
       "      <th>session_id</th>\n",
       "      <th>item_id</th>\n",
       "      <th>item_price</th>\n",
       "      <th>category</th>\n",
       "      <th>product_type</th>\n",
       "      <th>app_code</th>\n",
       "      <th>os_version</th>\n",
       "      <th>is_4G</th>\n",
       "      <th>is_click</th>\n",
       "    </tr>\n",
       "  </thead>\n",
       "  <tbody>\n",
       "    <tr>\n",
       "      <th>count</th>\n",
       "      <td>1780.000000</td>\n",
       "      <td>1.780000e+03</td>\n",
       "      <td>1780.000000</td>\n",
       "      <td>1780.000000</td>\n",
       "      <td>1780.000000</td>\n",
       "      <td>1780.000000</td>\n",
       "      <td>1780.000000</td>\n",
       "      <td>1780.000000</td>\n",
       "      <td>1780.000000</td>\n",
       "      <td>1780.000000</td>\n",
       "    </tr>\n",
       "    <tr>\n",
       "      <th>mean</th>\n",
       "      <td>46729.493820</td>\n",
       "      <td>5.467858e+05</td>\n",
       "      <td>63532.398876</td>\n",
       "      <td>2774.356180</td>\n",
       "      <td>10.260112</td>\n",
       "      <td>5367.814888</td>\n",
       "      <td>244.198876</td>\n",
       "      <td>0.988202</td>\n",
       "      <td>0.342697</td>\n",
       "      <td>0.048315</td>\n",
       "    </tr>\n",
       "    <tr>\n",
       "      <th>std</th>\n",
       "      <td>26387.962825</td>\n",
       "      <td>3.087378e+05</td>\n",
       "      <td>36639.606662</td>\n",
       "      <td>2034.199606</td>\n",
       "      <td>4.840605</td>\n",
       "      <td>3077.228646</td>\n",
       "      <td>124.634935</td>\n",
       "      <td>0.685000</td>\n",
       "      <td>0.474744</td>\n",
       "      <td>0.214490</td>\n",
       "    </tr>\n",
       "    <tr>\n",
       "      <th>min</th>\n",
       "      <td>10.000000</td>\n",
       "      <td>1.694000e+03</td>\n",
       "      <td>176.000000</td>\n",
       "      <td>16.000000</td>\n",
       "      <td>0.000000</td>\n",
       "      <td>8.000000</td>\n",
       "      <td>1.000000</td>\n",
       "      <td>0.000000</td>\n",
       "      <td>0.000000</td>\n",
       "      <td>0.000000</td>\n",
       "    </tr>\n",
       "    <tr>\n",
       "      <th>25%</th>\n",
       "      <td>24882.250000</td>\n",
       "      <td>2.738070e+05</td>\n",
       "      <td>34687.000000</td>\n",
       "      <td>1273.000000</td>\n",
       "      <td>7.000000</td>\n",
       "      <td>2739.500000</td>\n",
       "      <td>190.000000</td>\n",
       "      <td>1.000000</td>\n",
       "      <td>0.000000</td>\n",
       "      <td>0.000000</td>\n",
       "    </tr>\n",
       "    <tr>\n",
       "      <th>50%</th>\n",
       "      <td>46148.000000</td>\n",
       "      <td>5.440370e+05</td>\n",
       "      <td>63579.500000</td>\n",
       "      <td>2240.000000</td>\n",
       "      <td>11.000000</td>\n",
       "      <td>5403.000000</td>\n",
       "      <td>207.000000</td>\n",
       "      <td>1.000000</td>\n",
       "      <td>0.000000</td>\n",
       "      <td>0.000000</td>\n",
       "    </tr>\n",
       "    <tr>\n",
       "      <th>75%</th>\n",
       "      <td>69426.000000</td>\n",
       "      <td>7.992640e+05</td>\n",
       "      <td>90815.000000</td>\n",
       "      <td>3713.250000</td>\n",
       "      <td>13.000000</td>\n",
       "      <td>8121.000000</td>\n",
       "      <td>371.000000</td>\n",
       "      <td>1.000000</td>\n",
       "      <td>1.000000</td>\n",
       "      <td>0.000000</td>\n",
       "    </tr>\n",
       "    <tr>\n",
       "      <th>max</th>\n",
       "      <td>92508.000000</td>\n",
       "      <td>1.089219e+06</td>\n",
       "      <td>132865.000000</td>\n",
       "      <td>9780.000000</td>\n",
       "      <td>17.000000</td>\n",
       "      <td>10573.000000</td>\n",
       "      <td>508.000000</td>\n",
       "      <td>2.000000</td>\n",
       "      <td>1.000000</td>\n",
       "      <td>1.000000</td>\n",
       "    </tr>\n",
       "  </tbody>\n",
       "</table>\n",
       "</div>"
      ],
      "text/plain": [
       "            user_id    session_id        item_id   item_price     category  \\\n",
       "count   1780.000000  1.780000e+03    1780.000000  1780.000000  1780.000000   \n",
       "mean   46729.493820  5.467858e+05   63532.398876  2774.356180    10.260112   \n",
       "std    26387.962825  3.087378e+05   36639.606662  2034.199606     4.840605   \n",
       "min       10.000000  1.694000e+03     176.000000    16.000000     0.000000   \n",
       "25%    24882.250000  2.738070e+05   34687.000000  1273.000000     7.000000   \n",
       "50%    46148.000000  5.440370e+05   63579.500000  2240.000000    11.000000   \n",
       "75%    69426.000000  7.992640e+05   90815.000000  3713.250000    13.000000   \n",
       "max    92508.000000  1.089219e+06  132865.000000  9780.000000    17.000000   \n",
       "\n",
       "       product_type     app_code   os_version        is_4G     is_click  \n",
       "count   1780.000000  1780.000000  1780.000000  1780.000000  1780.000000  \n",
       "mean    5367.814888   244.198876     0.988202     0.342697     0.048315  \n",
       "std     3077.228646   124.634935     0.685000     0.474744     0.214490  \n",
       "min        8.000000     1.000000     0.000000     0.000000     0.000000  \n",
       "25%     2739.500000   190.000000     1.000000     0.000000     0.000000  \n",
       "50%     5403.000000   207.000000     1.000000     0.000000     0.000000  \n",
       "75%     8121.000000   371.000000     1.000000     1.000000     0.000000  \n",
       "max    10573.000000   508.000000     2.000000     1.000000     1.000000  "
      ]
     },
     "execution_count": 56,
     "metadata": {},
     "output_type": "execute_result"
    }
   ],
   "source": [
    "data.describe()"
   ]
  },
  {
   "cell_type": "code",
   "execution_count": 58,
   "id": "932401f5",
   "metadata": {},
   "outputs": [
    {
     "data": {
      "image/png": "[encoded data removed]",
      "text/plain": [
       "<Figure size 640x480 with 1 Axes>"
      ]
     },
     "metadata": {},
     "output_type": "display_data"
    },
    {
     "data": {
      "image/png": "[encoded data removed]",
      "text/plain": [
       "<Figure size 640x480 with 1 Axes>"
      ]
     },
     "metadata": {},
     "output_type": "display_data"
    },
    {
     "data": {
      "image/png": "[encoded data removed]",
      "text/plain": [
       "<Figure size 640x480 with 1 Axes>"
      ]
     },
     "metadata": {},
     "output_type": "display_data"
    },
    {
     "data": {
      "image/png": "[encoded data removed]",
      "text/plain": [
       "<Figure size 640x480 with 1 Axes>"
      ]
     },
     "metadata": {},
     "output_type": "display_data"
    },
    {
     "data": {
      "image/png": "[encoded data removed]",
      "text/plain": [
       "<Figure size 640x480 with 1 Axes>"
      ]
     },
     "metadata": {},
     "output_type": "display_data"
    },
    {
     "data": {
      "image/png": "[encoded data removed]",
      "text/plain": [
       "<Figure size 640x480 with 1 Axes>"
      ]
     },
     "metadata": {},
     "output_type": "display_data"
    },
    {
     "data": {
      "image/png": "[encoded data removed]",
      "text/plain": [
       "<Figure size 640x480 with 1 Axes>"
      ]
     },
     "metadata": {},
     "output_type": "display_data"
    }
   ],
   "source": [
    "num_cols = ['user_id', 'session_id', 'item_id','item_price', 'category', 'product_type','app_code']\n",
    "for i in num_cols:\n",
    "    plt.figure()\n",
    "    plt.boxplot(data[i])\n",
    "    plt.title(i)\n",
    "  "
   ]
  },
  {
   "cell_type": "code",
   "execution_count": 10,
   "id": "7573379c",
   "metadata": {},
   "outputs": [
    {
     "name": "stderr",
     "output_type": "stream",
     "text": [
      "C:\\Users\\HP\\AppData\\Local\\Temp\\ipykernel_11636\\4260797846.py:1: DeprecationWarning: the `interpolation=` argument to percentile was renamed to `method=`, which has additional options.\n",
      "Users of the modes 'nearest', 'lower', 'higher', or 'midpoint' are encouraged to review the method they used. (Deprecated NumPy 1.22)\n",
      "  q1 = np.percentile(data['item_price'],25,interpolation='midpoint')\n",
      "C:\\Users\\HP\\AppData\\Local\\Temp\\ipykernel_11636\\4260797846.py:2: DeprecationWarning: the `interpolation=` argument to percentile was renamed to `method=`, which has additional options.\n",
      "Users of the modes 'nearest', 'lower', 'higher', or 'midpoint' are encouraged to review the method they used. (Deprecated NumPy 1.22)\n",
      "  q2 = np.percentile(data['item_price'],50,interpolation='midpoint')\n",
      "C:\\Users\\HP\\AppData\\Local\\Temp\\ipykernel_11636\\4260797846.py:3: DeprecationWarning: the `interpolation=` argument to percentile was renamed to `method=`, which has additional options.\n",
      "Users of the modes 'nearest', 'lower', 'higher', or 'midpoint' are encouraged to review the method they used. (Deprecated NumPy 1.22)\n",
      "  q3 = np.percentile(data['item_price'],75,interpolation='midpoint')\n"
     ]
    }
   ],
   "source": [
    "q1 = np.percentile(data['item_price'],25,interpolation='midpoint')\n",
    "q2 = np.percentile(data['item_price'],50,interpolation='midpoint')\n",
    "q3 = np.percentile(data['item_price'],75,interpolation='midpoint')"
   ]
  },
  {
   "cell_type": "code",
   "execution_count": 11,
   "id": "1507057a",
   "metadata": {},
   "outputs": [
    {
     "name": "stdout",
     "output_type": "stream",
     "text": [
      "1465.0\n",
      "2425.0\n",
      "4793.0\n"
     ]
    }
   ],
   "source": [
    "print(q1)\n",
    "print(q2)\n",
    "print(q3)"
   ]
  },
  {
   "cell_type": "code",
   "execution_count": 12,
   "id": "e906cb4f",
   "metadata": {},
   "outputs": [
    {
     "data": {
      "text/plain": [
       "2425.0"
      ]
     },
     "execution_count": 12,
     "metadata": {},
     "output_type": "execute_result"
    }
   ],
   "source": [
    "data['item_price'].median()"
   ]
  },
  {
   "cell_type": "code",
   "execution_count": 13,
   "id": "40bd8669",
   "metadata": {},
   "outputs": [],
   "source": [
    "iqr = q3-q1"
   ]
  },
  {
   "cell_type": "code",
   "execution_count": 14,
   "id": "ee48ea2a",
   "metadata": {},
   "outputs": [
    {
     "data": {
      "text/plain": [
       "3328.0"
      ]
     },
     "execution_count": 14,
     "metadata": {},
     "output_type": "execute_result"
    }
   ],
   "source": [
    "iqr"
   ]
  },
  {
   "cell_type": "code",
   "execution_count": 15,
   "id": "8cb4c1b7",
   "metadata": {},
   "outputs": [
    {
     "name": "stdout",
     "output_type": "stream",
     "text": [
      "9785.0\n",
      "-3527.0\n"
     ]
    }
   ],
   "source": [
    "up=q3+1.5*iqr\n",
    "low=q1-1.5*iqr\n",
    "print(up)\n",
    "print(low)"
   ]
  },
  {
   "cell_type": "code",
   "execution_count": 16,
   "id": "44f51ab3",
   "metadata": {},
   "outputs": [
    {
     "name": "stdout",
     "output_type": "stream",
     "text": [
      "[18118.0, 17856.0, 17222.0, 11462.0, 10246.0, 23040.0, 10822.0, 10816.0, 11712.0, 12221.0, 46656.0, 20492.0, 85760.0, 9990.0, 54336.0, 15296.0, 13984.0, 33984.0, 13420.0, 19526.0, 51136.0, 9959.0, 10758.0, 10886.0, 25472.0, 35136.0, 11404.0, 11456.0, 99507.0, 12280.0, 53625.0, 18668.0, 22208.0, 21409.0, 83776.0, 14906.0, 18557.0, 130154.0, 20416.0, 14080.0, 117849.0, 17222.0, 178099.0, 165665.0, 11369.0, 32576.0, 10240.0, 14016.0, 41369.0, 16416.0, 63936.0, 10087.0, 10310.0, 12096.0, 10298.0, 21120.0, 26956.0, 13000.0, 16960.0, 152652.0, 16128.0, 47936.0, 10039.0, 19008.0, 9792.0, 27545.0, 20160.0, 10310.0, 18278.0, 165665.0, 96768.0, 10816.0, 14656.0, 64000.0, 37916.0, 70336.0, 27400.0, 24969.0, 15808.0, 15296.0, 40256.0, 12672.0, 49016.0, 61056.0, 15968.0, 22348.0, 17665.0, 22912.0, 16265.0, 47360.0, 20428.0, 12736.0, 21248.0, 11392.0, 32808.0, 27443.0, 10771.0, 10944.0, 11008.0, 17664.0, 31040.0, 20416.0, 18346.0, 15232.0, 15936.0, 20505.0, 12793.0, 43968.0, 134122.0, 11136.0, 10586.0, 16704.0, 12608.0, 28108.0, 101760.0, 16416.0, 23360.0, 70336.0, 15296.0, 56256.0, 38336.0, 20672.0, 95172.0, 209825.0, 34150.0, 106624.0, 10240.0, 10176.0, 33299.0, 25459.0, 21811.0, 162462.0, 10112.0, 17318.0, 72320.0, 12885.0, 11456.0, 27091.0, 12038.0, 17006.0, 76160.0, 31936.0, 10176.0, 16704.0, 10310.0, 35004.0, 12729.0, 82624.0, 33728.0, 14976.0, 28224.0, 19219.0, 41088.0, 152320.0, 35136.0, 10137.0, 48064.0, 44736.0, 51206.0, 56473.0, 24364.0, 82963.0, 15296.0, 14656.0, 9792.0, 17792.0, 154944.0, 27417.0, 20160.0, 10064.0, 26144.0, 52147.0, 10499.0, 11456.0, 19756.0, 11052.0, 22924.0, 146304.0, 37114.0, 127360.0, 24710.0, 42058.0, 239360.0, 14841.0, 12153.0, 26176.0, 95328.0, 60928.0, 12185.0, 57873.0, 28736.0, 12032.0, 15232.0, 46038.0, 123488.0, 33875.0, 16576.0, 10064.0, 14342.0, 29651.0, 22336.0, 10736.0, 19008.0, 60928.0, 14656.0, 12672.0, 10886.0, 12092.0, 18284.0, 12992.0, 12096.0, 12373.0, 15296.0, 16320.0, 13248.0, 10246.0, 10310.0, 12928.0, 18777.0, 14144.0, 63288.0, 15449.0, 63948.0, 17856.0, 19776.0, 166355.0, 15721.0, 13132.0, 47488.0, 13975.0, 85248.0, 19136.0, 19136.0, 20291.0, 13491.0, 38336.0, 10758.0, 10240.0, 10310.0, 10800.0, 14400.0, 23372.0, 10886.0, 10252.0, 10246.0]\n"
     ]
    }
   ],
   "source": [
    "outliers = []\n",
    "for x in data['item_price']:\n",
    "    if(x>up) or (x<low):\n",
    "        outliers.append(x)\n",
    "\n",
    "print(outliers)        "
   ]
  },
  {
   "cell_type": "code",
   "execution_count": 17,
   "id": "85c9d09b",
   "metadata": {},
   "outputs": [
    {
     "name": "stdout",
     "output_type": "stream",
     "text": [
      "[6, 7, 31, 34, 49, 51, 63, 68, 74, 86, 90, 107, 110, 113, 114, 122, 127, 138, 146, 161, 176, 179, 184, 191, 228, 242, 290, 294, 314, 325, 328, 352, 353, 368, 370, 386, 399, 419, 423, 428, 442, 447, 453, 458, 463, 464, 465, 467, 471, 472, 475, 478, 481, 493, 512, 538, 543, 561, 577, 581, 584, 595, 596, 598, 600, 603, 610, 639, 643, 644, 651, 663, 664, 669, 679, 688, 713, 715, 722, 726, 732, 736, 752, 767, 778, 800, 801, 840, 846, 849, 859, 865, 888, 900, 912, 925, 929, 942, 949, 953, 962, 970, 977, 984, 985, 992, 1000, 1013, 1024, 1025, 1033, 1035, 1037, 1057, 1060, 1063, 1065, 1106, 1113, 1121, 1132, 1140, 1146, 1151, 1157, 1166, 1168, 1182, 1198, 1199, 1204, 1206, 1213, 1238, 1248, 1257, 1264, 1267, 1272, 1278, 1281, 1298, 1305, 1320, 1325, 1327, 1329, 1342, 1359, 1373, 1374, 1376, 1386, 1387, 1393, 1396, 1419, 1424, 1426, 1432, 1445, 1446, 1451, 1455, 1460, 1487, 1488, 1490, 1503, 1511, 1520, 1529, 1535, 1542, 1551, 1556, 1560, 1572, 1580, 1584, 1585, 1586, 1592, 1594, 1599, 1606, 1613, 1632, 1636, 1641, 1644, 1646, 1661, 1670, 1673, 1678, 1695, 1697, 1699, 1709, 1722, 1723, 1724, 1726, 1741, 1743, 1746, 1756, 1769, 1780, 1789, 1790, 1803, 1804, 1805, 1808, 1810, 1813, 1827, 1829, 1832, 1837, 1856, 1857, 1858, 1860, 1861, 1865, 1866, 1868, 1869, 1877, 1879, 1882, 1885, 1933, 1937, 1948, 1953, 1961, 1978, 1981, 1983, 1998, 2012]\n"
     ]
    }
   ],
   "source": [
    "ind1 = data['item_price']>up\n",
    "s = data.loc[ind1].index.tolist()\n",
    "print(s)"
   ]
  },
  {
   "cell_type": "code",
   "execution_count": 18,
   "id": "3f2bb086",
   "metadata": {},
   "outputs": [],
   "source": [
    "data.drop([6, 7, 31, 34, 49, 51, 63, 68, 74, 86, 90, 107, 110, 113, 114, 122, 127, 138, 146, 161, 176, 179, 184, 191, 228, 242, 290, 294, 314, 325, 328, 352, 353, 368, 370, 386, 399, 419, 423, 428, 442, 447, 453, 458, 463, 464, 465, 467, 471, 472, 475, 478, 481, 493, 512, 538, 543, 561, 577, 581, 584, 595, 596, 598, 600, 603, 610, 639, 643, 644, 651, 663, 664, 669, 679, 688, 713, 715, 722, 726, 732, 736, 752, 767, 778, 800, 801, 840, 846, 849, 859, 865, 888, 900, 912, 925, 929, 942, 949, 953, 962, 970, 977, 984, 985, 992, 1000, 1013, 1024, 1025, 1033, 1035, 1037, 1057, 1060, 1063, 1065, 1106, 1113, 1121, 1132, 1140, 1146, 1151, 1157, 1166, 1168, 1182, 1198, 1199, 1204, 1206, 1213, 1238, 1248, 1257, 1264, 1267, 1272, 1278, 1281, 1298, 1305, 1320, 1325, 1327, 1329, 1342, 1359, 1373, 1374, 1376, 1386, 1387, 1393, 1396, 1419, 1424, 1426, 1432, 1445, 1446, 1451, 1455, 1460, 1487, 1488, 1490, 1503, 1511, 1520, 1529, 1535, 1542, 1551, 1556, 1560, 1572, 1580, 1584, 1585, 1586, 1592, 1594, 1599, 1606, 1613, 1632, 1636, 1641, 1644, 1646, 1661, 1670, 1673, 1678, 1695, 1697, 1699, 1709, 1722, 1723, 1724, 1726, 1741, 1743, 1746, 1756, 1769, 1780, 1789, 1790, 1803, 1804, 1805, 1808, 1810, 1813, 1827, 1829, 1832, 1837, 1856, 1857, 1858, 1860, 1861, 1865, 1866, 1868, 1869, 1877, 1879, 1882, 1885, 1933, 1937, 1948, 1953, 1961, 1978, 1981, 1983, 1998, 2012],inplace = True)"
   ]
  },
  {
   "cell_type": "markdown",
   "id": "a4ab075c",
   "metadata": {},
   "source": [
    "# one hot encoding"
   ]
  },
  {
   "cell_type": "code",
   "execution_count": 19,
   "id": "47300139",
   "metadata": {},
   "outputs": [
    {
     "data": {
      "text/plain": [
       "(1780, 13)"
      ]
     },
     "execution_count": 19,
     "metadata": {},
     "output_type": "execute_result"
    }
   ],
   "source": [
    "data.shape"
   ]
  },
  {
   "cell_type": "code",
   "execution_count": 20,
   "id": "b942e420",
   "metadata": {},
   "outputs": [],
   "source": [
    "from sklearn.preprocessing import LabelEncoder"
   ]
  },
  {
   "cell_type": "code",
   "execution_count": 21,
   "id": "9863c0eb",
   "metadata": {},
   "outputs": [],
   "source": [
    "data1 = pd.get_dummies(data)"
   ]
  },
  {
   "cell_type": "code",
   "execution_count": 22,
   "id": "bcc13eb1",
   "metadata": {},
   "outputs": [
    {
     "data": {
      "text/plain": [
       "(1780, 15)"
      ]
     },
     "execution_count": 22,
     "metadata": {},
     "output_type": "execute_result"
    }
   ],
   "source": [
    "data1.shape"
   ]
  },
  {
   "cell_type": "code",
   "execution_count": 23,
   "id": "29303eda",
   "metadata": {},
   "outputs": [
    {
     "data": {
      "text/plain": [
       "server_time        datetime64[ns]\n",
       "device_type                object\n",
       "user_id                   float64\n",
       "session_id                float64\n",
       "item_id                   float64\n",
       "item_price                float64\n",
       "category                  float64\n",
       "product_type              float64\n",
       "impression_time    datetime64[ns]\n",
       "app_code                  float64\n",
       "os_version                 object\n",
       "is_4G                       int64\n",
       "is_click                    int64\n",
       "dtype: object"
      ]
     },
     "execution_count": 23,
     "metadata": {},
     "output_type": "execute_result"
    }
   ],
   "source": [
    "data.dtypes"
   ]
  },
  {
   "cell_type": "code",
   "execution_count": 24,
   "id": "dd73681e",
   "metadata": {},
   "outputs": [
    {
     "data": {
      "text/plain": [
       "1543"
      ]
     },
     "execution_count": 24,
     "metadata": {},
     "output_type": "execute_result"
    }
   ],
   "source": [
    "data['server_time'].nunique()"
   ]
  },
  {
   "cell_type": "code",
   "execution_count": 25,
   "id": "52f86d99",
   "metadata": {},
   "outputs": [
    {
     "data": {
      "text/plain": [
       "807"
      ]
     },
     "execution_count": 25,
     "metadata": {},
     "output_type": "execute_result"
    }
   ],
   "source": [
    "data['impression_time'].nunique()"
   ]
  },
  {
   "cell_type": "code",
   "execution_count": 26,
   "id": "1ff179bf",
   "metadata": {},
   "outputs": [],
   "source": [
    "data2 = data.drop(['server_time','impression_time'],axis=1)"
   ]
  },
  {
   "cell_type": "code",
   "execution_count": 27,
   "id": "2f67cc13",
   "metadata": {},
   "outputs": [
    {
     "data": {
      "text/html": [
       "<div>\n",
       "<style scoped>\n",
       "    .dataframe tbody tr th:only-of-type {\n",
       "        vertical-align: middle;\n",
       "    }\n",
       "\n",
       "    .dataframe tbody tr th {\n",
       "        vertical-align: top;\n",
       "    }\n",
       "\n",
       "    .dataframe thead th {\n",
       "        text-align: right;\n",
       "    }\n",
       "</style>\n",
       "<table border=\"1\" class=\"dataframe\">\n",
       "  <thead>\n",
       "    <tr style=\"text-align: right;\">\n",
       "      <th></th>\n",
       "      <th>device_type</th>\n",
       "      <th>user_id</th>\n",
       "      <th>session_id</th>\n",
       "      <th>item_id</th>\n",
       "      <th>item_price</th>\n",
       "      <th>category</th>\n",
       "      <th>product_type</th>\n",
       "      <th>app_code</th>\n",
       "      <th>os_version</th>\n",
       "      <th>is_4G</th>\n",
       "      <th>is_click</th>\n",
       "    </tr>\n",
       "  </thead>\n",
       "  <tbody>\n",
       "    <tr>\n",
       "      <th>0</th>\n",
       "      <td>android</td>\n",
       "      <td>87862.0</td>\n",
       "      <td>268465.0</td>\n",
       "      <td>44459.0</td>\n",
       "      <td>4602.0</td>\n",
       "      <td>11.0</td>\n",
       "      <td>3040.0</td>\n",
       "      <td>422.0</td>\n",
       "      <td>old</td>\n",
       "      <td>0</td>\n",
       "      <td>0</td>\n",
       "    </tr>\n",
       "    <tr>\n",
       "      <th>1</th>\n",
       "      <td>android</td>\n",
       "      <td>63410.0</td>\n",
       "      <td>268465.0</td>\n",
       "      <td>44459.0</td>\n",
       "      <td>3513.0</td>\n",
       "      <td>12.0</td>\n",
       "      <td>6822.0</td>\n",
       "      <td>467.0</td>\n",
       "      <td>latest</td>\n",
       "      <td>1</td>\n",
       "      <td>1</td>\n",
       "    </tr>\n",
       "    <tr>\n",
       "      <th>2</th>\n",
       "      <td>android</td>\n",
       "      <td>71748.0</td>\n",
       "      <td>268465.0</td>\n",
       "      <td>44459.0</td>\n",
       "      <td>825.0</td>\n",
       "      <td>17.0</td>\n",
       "      <td>1619.0</td>\n",
       "      <td>259.0</td>\n",
       "      <td>intermediate</td>\n",
       "      <td>1</td>\n",
       "      <td>0</td>\n",
       "    </tr>\n",
       "    <tr>\n",
       "      <th>3</th>\n",
       "      <td>android</td>\n",
       "      <td>69209.0</td>\n",
       "      <td>268465.0</td>\n",
       "      <td>44459.0</td>\n",
       "      <td>2355.0</td>\n",
       "      <td>13.0</td>\n",
       "      <td>5264.0</td>\n",
       "      <td>244.0</td>\n",
       "      <td>latest</td>\n",
       "      <td>1</td>\n",
       "      <td>0</td>\n",
       "    </tr>\n",
       "    <tr>\n",
       "      <th>4</th>\n",
       "      <td>android</td>\n",
       "      <td>62873.0</td>\n",
       "      <td>268465.0</td>\n",
       "      <td>44459.0</td>\n",
       "      <td>1267.0</td>\n",
       "      <td>17.0</td>\n",
       "      <td>10239.0</td>\n",
       "      <td>473.0</td>\n",
       "      <td>latest</td>\n",
       "      <td>0</td>\n",
       "      <td>0</td>\n",
       "    </tr>\n",
       "  </tbody>\n",
       "</table>\n",
       "</div>"
      ],
      "text/plain": [
       "  device_type  user_id  session_id  item_id  item_price  category  \\\n",
       "0     android  87862.0    268465.0  44459.0      4602.0      11.0   \n",
       "1     android  63410.0    268465.0  44459.0      3513.0      12.0   \n",
       "2     android  71748.0    268465.0  44459.0       825.0      17.0   \n",
       "3     android  69209.0    268465.0  44459.0      2355.0      13.0   \n",
       "4     android  62873.0    268465.0  44459.0      1267.0      17.0   \n",
       "\n",
       "   product_type  app_code    os_version  is_4G  is_click  \n",
       "0        3040.0     422.0           old      0         0  \n",
       "1        6822.0     467.0        latest      1         1  \n",
       "2        1619.0     259.0  intermediate      1         0  \n",
       "3        5264.0     244.0        latest      1         0  \n",
       "4       10239.0     473.0        latest      0         0  "
      ]
     },
     "execution_count": 27,
     "metadata": {},
     "output_type": "execute_result"
    }
   ],
   "source": [
    "data2.head()"
   ]
  },
  {
   "cell_type": "code",
   "execution_count": 28,
   "id": "cb63fa7f",
   "metadata": {},
   "outputs": [
    {
     "data": {
      "text/plain": [
       "(1780, 11)"
      ]
     },
     "execution_count": 28,
     "metadata": {},
     "output_type": "execute_result"
    }
   ],
   "source": [
    "data2.shape"
   ]
  },
  {
   "cell_type": "code",
   "execution_count": 29,
   "id": "aaaf7248",
   "metadata": {},
   "outputs": [],
   "source": [
    "data2 = pd.get_dummies(data2)"
   ]
  },
  {
   "cell_type": "code",
   "execution_count": 30,
   "id": "79967f49",
   "metadata": {},
   "outputs": [
    {
     "data": {
      "text/html": [
       "<div>\n",
       "<style scoped>\n",
       "    .dataframe tbody tr th:only-of-type {\n",
       "        vertical-align: middle;\n",
       "    }\n",
       "\n",
       "    .dataframe tbody tr th {\n",
       "        vertical-align: top;\n",
       "    }\n",
       "\n",
       "    .dataframe thead th {\n",
       "        text-align: right;\n",
       "    }\n",
       "</style>\n",
       "<table border=\"1\" class=\"dataframe\">\n",
       "  <thead>\n",
       "    <tr style=\"text-align: right;\">\n",
       "      <th></th>\n",
       "      <th>user_id</th>\n",
       "      <th>session_id</th>\n",
       "      <th>item_id</th>\n",
       "      <th>item_price</th>\n",
       "      <th>category</th>\n",
       "      <th>product_type</th>\n",
       "      <th>app_code</th>\n",
       "      <th>is_4G</th>\n",
       "      <th>is_click</th>\n",
       "      <th>device_type_android</th>\n",
       "      <th>os_version_intermediate</th>\n",
       "      <th>os_version_latest</th>\n",
       "      <th>os_version_old</th>\n",
       "    </tr>\n",
       "  </thead>\n",
       "  <tbody>\n",
       "    <tr>\n",
       "      <th>0</th>\n",
       "      <td>87862.0</td>\n",
       "      <td>268465.0</td>\n",
       "      <td>44459.0</td>\n",
       "      <td>4602.0</td>\n",
       "      <td>11.0</td>\n",
       "      <td>3040.0</td>\n",
       "      <td>422.0</td>\n",
       "      <td>0</td>\n",
       "      <td>0</td>\n",
       "      <td>1</td>\n",
       "      <td>0</td>\n",
       "      <td>0</td>\n",
       "      <td>1</td>\n",
       "    </tr>\n",
       "    <tr>\n",
       "      <th>1</th>\n",
       "      <td>63410.0</td>\n",
       "      <td>268465.0</td>\n",
       "      <td>44459.0</td>\n",
       "      <td>3513.0</td>\n",
       "      <td>12.0</td>\n",
       "      <td>6822.0</td>\n",
       "      <td>467.0</td>\n",
       "      <td>1</td>\n",
       "      <td>1</td>\n",
       "      <td>1</td>\n",
       "      <td>0</td>\n",
       "      <td>1</td>\n",
       "      <td>0</td>\n",
       "    </tr>\n",
       "    <tr>\n",
       "      <th>2</th>\n",
       "      <td>71748.0</td>\n",
       "      <td>268465.0</td>\n",
       "      <td>44459.0</td>\n",
       "      <td>825.0</td>\n",
       "      <td>17.0</td>\n",
       "      <td>1619.0</td>\n",
       "      <td>259.0</td>\n",
       "      <td>1</td>\n",
       "      <td>0</td>\n",
       "      <td>1</td>\n",
       "      <td>1</td>\n",
       "      <td>0</td>\n",
       "      <td>0</td>\n",
       "    </tr>\n",
       "    <tr>\n",
       "      <th>3</th>\n",
       "      <td>69209.0</td>\n",
       "      <td>268465.0</td>\n",
       "      <td>44459.0</td>\n",
       "      <td>2355.0</td>\n",
       "      <td>13.0</td>\n",
       "      <td>5264.0</td>\n",
       "      <td>244.0</td>\n",
       "      <td>1</td>\n",
       "      <td>0</td>\n",
       "      <td>1</td>\n",
       "      <td>0</td>\n",
       "      <td>1</td>\n",
       "      <td>0</td>\n",
       "    </tr>\n",
       "    <tr>\n",
       "      <th>4</th>\n",
       "      <td>62873.0</td>\n",
       "      <td>268465.0</td>\n",
       "      <td>44459.0</td>\n",
       "      <td>1267.0</td>\n",
       "      <td>17.0</td>\n",
       "      <td>10239.0</td>\n",
       "      <td>473.0</td>\n",
       "      <td>0</td>\n",
       "      <td>0</td>\n",
       "      <td>1</td>\n",
       "      <td>0</td>\n",
       "      <td>1</td>\n",
       "      <td>0</td>\n",
       "    </tr>\n",
       "  </tbody>\n",
       "</table>\n",
       "</div>"
      ],
      "text/plain": [
       "   user_id  session_id  item_id  item_price  category  product_type  app_code  \\\n",
       "0  87862.0    268465.0  44459.0      4602.0      11.0        3040.0     422.0   \n",
       "1  63410.0    268465.0  44459.0      3513.0      12.0        6822.0     467.0   \n",
       "2  71748.0    268465.0  44459.0       825.0      17.0        1619.0     259.0   \n",
       "3  69209.0    268465.0  44459.0      2355.0      13.0        5264.0     244.0   \n",
       "4  62873.0    268465.0  44459.0      1267.0      17.0       10239.0     473.0   \n",
       "\n",
       "   is_4G  is_click  device_type_android  os_version_intermediate  \\\n",
       "0      0         0                    1                        0   \n",
       "1      1         1                    1                        0   \n",
       "2      1         0                    1                        1   \n",
       "3      1         0                    1                        0   \n",
       "4      0         0                    1                        0   \n",
       "\n",
       "   os_version_latest  os_version_old  \n",
       "0                  0               1  \n",
       "1                  1               0  \n",
       "2                  0               0  \n",
       "3                  1               0  \n",
       "4                  1               0  "
      ]
     },
     "execution_count": 30,
     "metadata": {},
     "output_type": "execute_result"
    }
   ],
   "source": [
    "data2.head()"
   ]
  },
  {
   "cell_type": "markdown",
   "id": "0688359d",
   "metadata": {},
   "source": [
    "# label encoding"
   ]
  },
  {
   "cell_type": "code",
   "execution_count": 31,
   "id": "9996dfe2",
   "metadata": {},
   "outputs": [
    {
     "data": {
      "text/html": [
       "<div>\n",
       "<style scoped>\n",
       "    .dataframe tbody tr th:only-of-type {\n",
       "        vertical-align: middle;\n",
       "    }\n",
       "\n",
       "    .dataframe tbody tr th {\n",
       "        vertical-align: top;\n",
       "    }\n",
       "\n",
       "    .dataframe thead th {\n",
       "        text-align: right;\n",
       "    }\n",
       "</style>\n",
       "<table border=\"1\" class=\"dataframe\">\n",
       "  <thead>\n",
       "    <tr style=\"text-align: right;\">\n",
       "      <th></th>\n",
       "      <th>server_time</th>\n",
       "      <th>device_type</th>\n",
       "      <th>user_id</th>\n",
       "      <th>session_id</th>\n",
       "      <th>item_id</th>\n",
       "      <th>item_price</th>\n",
       "      <th>category</th>\n",
       "      <th>product_type</th>\n",
       "      <th>impression_time</th>\n",
       "      <th>app_code</th>\n",
       "      <th>os_version</th>\n",
       "      <th>is_4G</th>\n",
       "      <th>is_click</th>\n",
       "    </tr>\n",
       "  </thead>\n",
       "  <tbody>\n",
       "    <tr>\n",
       "      <th>0</th>\n",
       "      <td>2018-10-18 14:27:00</td>\n",
       "      <td>android</td>\n",
       "      <td>87862.0</td>\n",
       "      <td>268465.0</td>\n",
       "      <td>44459.0</td>\n",
       "      <td>4602.0</td>\n",
       "      <td>11.0</td>\n",
       "      <td>3040.0</td>\n",
       "      <td>2018-11-15 00:00:00</td>\n",
       "      <td>422.0</td>\n",
       "      <td>old</td>\n",
       "      <td>0</td>\n",
       "      <td>0</td>\n",
       "    </tr>\n",
       "    <tr>\n",
       "      <th>1</th>\n",
       "      <td>2018-10-18 14:27:00</td>\n",
       "      <td>android</td>\n",
       "      <td>63410.0</td>\n",
       "      <td>268465.0</td>\n",
       "      <td>44459.0</td>\n",
       "      <td>3513.0</td>\n",
       "      <td>12.0</td>\n",
       "      <td>6822.0</td>\n",
       "      <td>2018-11-15 00:01:00</td>\n",
       "      <td>467.0</td>\n",
       "      <td>latest</td>\n",
       "      <td>1</td>\n",
       "      <td>1</td>\n",
       "    </tr>\n",
       "    <tr>\n",
       "      <th>2</th>\n",
       "      <td>2018-10-18 14:43:00</td>\n",
       "      <td>android</td>\n",
       "      <td>71748.0</td>\n",
       "      <td>268465.0</td>\n",
       "      <td>44459.0</td>\n",
       "      <td>825.0</td>\n",
       "      <td>17.0</td>\n",
       "      <td>1619.0</td>\n",
       "      <td>2018-11-15 00:02:00</td>\n",
       "      <td>259.0</td>\n",
       "      <td>intermediate</td>\n",
       "      <td>1</td>\n",
       "      <td>0</td>\n",
       "    </tr>\n",
       "    <tr>\n",
       "      <th>3</th>\n",
       "      <td>2018-10-18 14:46:00</td>\n",
       "      <td>android</td>\n",
       "      <td>69209.0</td>\n",
       "      <td>268465.0</td>\n",
       "      <td>44459.0</td>\n",
       "      <td>2355.0</td>\n",
       "      <td>13.0</td>\n",
       "      <td>5264.0</td>\n",
       "      <td>2018-11-15 00:02:00</td>\n",
       "      <td>244.0</td>\n",
       "      <td>latest</td>\n",
       "      <td>1</td>\n",
       "      <td>0</td>\n",
       "    </tr>\n",
       "    <tr>\n",
       "      <th>4</th>\n",
       "      <td>2018-10-18 14:46:00</td>\n",
       "      <td>android</td>\n",
       "      <td>62873.0</td>\n",
       "      <td>268465.0</td>\n",
       "      <td>44459.0</td>\n",
       "      <td>1267.0</td>\n",
       "      <td>17.0</td>\n",
       "      <td>10239.0</td>\n",
       "      <td>2018-11-15 00:02:00</td>\n",
       "      <td>473.0</td>\n",
       "      <td>latest</td>\n",
       "      <td>0</td>\n",
       "      <td>0</td>\n",
       "    </tr>\n",
       "  </tbody>\n",
       "</table>\n",
       "</div>"
      ],
      "text/plain": [
       "          server_time device_type  user_id  session_id  item_id  item_price  \\\n",
       "0 2018-10-18 14:27:00     android  87862.0    268465.0  44459.0      4602.0   \n",
       "1 2018-10-18 14:27:00     android  63410.0    268465.0  44459.0      3513.0   \n",
       "2 2018-10-18 14:43:00     android  71748.0    268465.0  44459.0       825.0   \n",
       "3 2018-10-18 14:46:00     android  69209.0    268465.0  44459.0      2355.0   \n",
       "4 2018-10-18 14:46:00     android  62873.0    268465.0  44459.0      1267.0   \n",
       "\n",
       "   category  product_type     impression_time  app_code    os_version  is_4G  \\\n",
       "0      11.0        3040.0 2018-11-15 00:00:00     422.0           old      0   \n",
       "1      12.0        6822.0 2018-11-15 00:01:00     467.0        latest      1   \n",
       "2      17.0        1619.0 2018-11-15 00:02:00     259.0  intermediate      1   \n",
       "3      13.0        5264.0 2018-11-15 00:02:00     244.0        latest      1   \n",
       "4      17.0       10239.0 2018-11-15 00:02:00     473.0        latest      0   \n",
       "\n",
       "   is_click  \n",
       "0         0  \n",
       "1         1  \n",
       "2         0  \n",
       "3         0  \n",
       "4         0  "
      ]
     },
     "execution_count": 31,
     "metadata": {},
     "output_type": "execute_result"
    }
   ],
   "source": [
    "data.head()"
   ]
  },
  {
   "cell_type": "code",
   "execution_count": 32,
   "id": "e642e522",
   "metadata": {},
   "outputs": [],
   "source": [
    "from sklearn.preprocessing import LabelEncoder"
   ]
  },
  {
   "cell_type": "code",
   "execution_count": 33,
   "id": "3aa4a2fb",
   "metadata": {},
   "outputs": [],
   "source": [
    "le = LabelEncoder()"
   ]
  },
  {
   "cell_type": "code",
   "execution_count": 34,
   "id": "ea467e7e",
   "metadata": {},
   "outputs": [],
   "source": [
    "data['os_version'] = le.fit_transform(data['os_version'])"
   ]
  },
  {
   "cell_type": "code",
   "execution_count": 35,
   "id": "1c696a2c",
   "metadata": {},
   "outputs": [
    {
     "data": {
      "text/plain": [
       "array([2, 1, 0])"
      ]
     },
     "execution_count": 35,
     "metadata": {},
     "output_type": "execute_result"
    }
   ],
   "source": [
    "data['os_version'].unique()"
   ]
  },
  {
   "cell_type": "code",
   "execution_count": 36,
   "id": "a58465aa",
   "metadata": {},
   "outputs": [
    {
     "data": {
      "text/html": [
       "<div>\n",
       "<style scoped>\n",
       "    .dataframe tbody tr th:only-of-type {\n",
       "        vertical-align: middle;\n",
       "    }\n",
       "\n",
       "    .dataframe tbody tr th {\n",
       "        vertical-align: top;\n",
       "    }\n",
       "\n",
       "    .dataframe thead th {\n",
       "        text-align: right;\n",
       "    }\n",
       "</style>\n",
       "<table border=\"1\" class=\"dataframe\">\n",
       "  <thead>\n",
       "    <tr style=\"text-align: right;\">\n",
       "      <th></th>\n",
       "      <th>server_time</th>\n",
       "      <th>device_type</th>\n",
       "      <th>user_id</th>\n",
       "      <th>session_id</th>\n",
       "      <th>item_id</th>\n",
       "      <th>item_price</th>\n",
       "      <th>category</th>\n",
       "      <th>product_type</th>\n",
       "      <th>impression_time</th>\n",
       "      <th>app_code</th>\n",
       "      <th>os_version</th>\n",
       "      <th>is_4G</th>\n",
       "      <th>is_click</th>\n",
       "    </tr>\n",
       "  </thead>\n",
       "  <tbody>\n",
       "    <tr>\n",
       "      <th>0</th>\n",
       "      <td>2018-10-18 14:27:00</td>\n",
       "      <td>android</td>\n",
       "      <td>87862.0</td>\n",
       "      <td>268465.0</td>\n",
       "      <td>44459.0</td>\n",
       "      <td>4602.0</td>\n",
       "      <td>11.0</td>\n",
       "      <td>3040.0</td>\n",
       "      <td>2018-11-15 00:00:00</td>\n",
       "      <td>422.0</td>\n",
       "      <td>2</td>\n",
       "      <td>0</td>\n",
       "      <td>0</td>\n",
       "    </tr>\n",
       "    <tr>\n",
       "      <th>1</th>\n",
       "      <td>2018-10-18 14:27:00</td>\n",
       "      <td>android</td>\n",
       "      <td>63410.0</td>\n",
       "      <td>268465.0</td>\n",
       "      <td>44459.0</td>\n",
       "      <td>3513.0</td>\n",
       "      <td>12.0</td>\n",
       "      <td>6822.0</td>\n",
       "      <td>2018-11-15 00:01:00</td>\n",
       "      <td>467.0</td>\n",
       "      <td>1</td>\n",
       "      <td>1</td>\n",
       "      <td>1</td>\n",
       "    </tr>\n",
       "    <tr>\n",
       "      <th>2</th>\n",
       "      <td>2018-10-18 14:43:00</td>\n",
       "      <td>android</td>\n",
       "      <td>71748.0</td>\n",
       "      <td>268465.0</td>\n",
       "      <td>44459.0</td>\n",
       "      <td>825.0</td>\n",
       "      <td>17.0</td>\n",
       "      <td>1619.0</td>\n",
       "      <td>2018-11-15 00:02:00</td>\n",
       "      <td>259.0</td>\n",
       "      <td>0</td>\n",
       "      <td>1</td>\n",
       "      <td>0</td>\n",
       "    </tr>\n",
       "    <tr>\n",
       "      <th>3</th>\n",
       "      <td>2018-10-18 14:46:00</td>\n",
       "      <td>android</td>\n",
       "      <td>69209.0</td>\n",
       "      <td>268465.0</td>\n",
       "      <td>44459.0</td>\n",
       "      <td>2355.0</td>\n",
       "      <td>13.0</td>\n",
       "      <td>5264.0</td>\n",
       "      <td>2018-11-15 00:02:00</td>\n",
       "      <td>244.0</td>\n",
       "      <td>1</td>\n",
       "      <td>1</td>\n",
       "      <td>0</td>\n",
       "    </tr>\n",
       "    <tr>\n",
       "      <th>4</th>\n",
       "      <td>2018-10-18 14:46:00</td>\n",
       "      <td>android</td>\n",
       "      <td>62873.0</td>\n",
       "      <td>268465.0</td>\n",
       "      <td>44459.0</td>\n",
       "      <td>1267.0</td>\n",
       "      <td>17.0</td>\n",
       "      <td>10239.0</td>\n",
       "      <td>2018-11-15 00:02:00</td>\n",
       "      <td>473.0</td>\n",
       "      <td>1</td>\n",
       "      <td>0</td>\n",
       "      <td>0</td>\n",
       "    </tr>\n",
       "  </tbody>\n",
       "</table>\n",
       "</div>"
      ],
      "text/plain": [
       "          server_time device_type  user_id  session_id  item_id  item_price  \\\n",
       "0 2018-10-18 14:27:00     android  87862.0    268465.0  44459.0      4602.0   \n",
       "1 2018-10-18 14:27:00     android  63410.0    268465.0  44459.0      3513.0   \n",
       "2 2018-10-18 14:43:00     android  71748.0    268465.0  44459.0       825.0   \n",
       "3 2018-10-18 14:46:00     android  69209.0    268465.0  44459.0      2355.0   \n",
       "4 2018-10-18 14:46:00     android  62873.0    268465.0  44459.0      1267.0   \n",
       "\n",
       "   category  product_type     impression_time  app_code  os_version  is_4G  \\\n",
       "0      11.0        3040.0 2018-11-15 00:00:00     422.0           2      0   \n",
       "1      12.0        6822.0 2018-11-15 00:01:00     467.0           1      1   \n",
       "2      17.0        1619.0 2018-11-15 00:02:00     259.0           0      1   \n",
       "3      13.0        5264.0 2018-11-15 00:02:00     244.0           1      1   \n",
       "4      17.0       10239.0 2018-11-15 00:02:00     473.0           1      0   \n",
       "\n",
       "   is_click  \n",
       "0         0  \n",
       "1         1  \n",
       "2         0  \n",
       "3         0  \n",
       "4         0  "
      ]
     },
     "execution_count": 36,
     "metadata": {},
     "output_type": "execute_result"
    }
   ],
   "source": [
    "data.head()"
   ]
  },
  {
   "cell_type": "markdown",
   "id": "e1c2ae63",
   "metadata": {},
   "source": [
    "# Min Max Scaling"
   ]
  },
  {
   "cell_type": "code",
   "execution_count": 37,
   "id": "b8269eb3",
   "metadata": {},
   "outputs": [],
   "source": [
    "X = data.drop('item_price',axis=1)\n",
    "y = data['item_price']"
   ]
  },
  {
   "cell_type": "code",
   "execution_count": 38,
   "id": "a449aaaf",
   "metadata": {},
   "outputs": [
    {
     "data": {
      "text/html": [
       "<div>\n",
       "<style scoped>\n",
       "    .dataframe tbody tr th:only-of-type {\n",
       "        vertical-align: middle;\n",
       "    }\n",
       "\n",
       "    .dataframe tbody tr th {\n",
       "        vertical-align: top;\n",
       "    }\n",
       "\n",
       "    .dataframe thead th {\n",
       "        text-align: right;\n",
       "    }\n",
       "</style>\n",
       "<table border=\"1\" class=\"dataframe\">\n",
       "  <thead>\n",
       "    <tr style=\"text-align: right;\">\n",
       "      <th></th>\n",
       "      <th>user_id</th>\n",
       "      <th>session_id</th>\n",
       "      <th>item_id</th>\n",
       "      <th>category</th>\n",
       "      <th>product_type</th>\n",
       "      <th>app_code</th>\n",
       "      <th>os_version</th>\n",
       "      <th>is_4G</th>\n",
       "      <th>is_click</th>\n",
       "    </tr>\n",
       "  </thead>\n",
       "  <tbody>\n",
       "    <tr>\n",
       "      <th>count</th>\n",
       "      <td>1780.000000</td>\n",
       "      <td>1.780000e+03</td>\n",
       "      <td>1780.000000</td>\n",
       "      <td>1780.000000</td>\n",
       "      <td>1780.000000</td>\n",
       "      <td>1780.000000</td>\n",
       "      <td>1780.000000</td>\n",
       "      <td>1780.000000</td>\n",
       "      <td>1780.000000</td>\n",
       "    </tr>\n",
       "    <tr>\n",
       "      <th>mean</th>\n",
       "      <td>46729.493820</td>\n",
       "      <td>5.467858e+05</td>\n",
       "      <td>63532.398876</td>\n",
       "      <td>10.260112</td>\n",
       "      <td>5367.814888</td>\n",
       "      <td>244.198876</td>\n",
       "      <td>0.988202</td>\n",
       "      <td>0.342697</td>\n",
       "      <td>0.048315</td>\n",
       "    </tr>\n",
       "    <tr>\n",
       "      <th>std</th>\n",
       "      <td>26387.962825</td>\n",
       "      <td>3.087378e+05</td>\n",
       "      <td>36639.606662</td>\n",
       "      <td>4.840605</td>\n",
       "      <td>3077.228646</td>\n",
       "      <td>124.634935</td>\n",
       "      <td>0.685000</td>\n",
       "      <td>0.474744</td>\n",
       "      <td>0.214490</td>\n",
       "    </tr>\n",
       "    <tr>\n",
       "      <th>min</th>\n",
       "      <td>10.000000</td>\n",
       "      <td>1.694000e+03</td>\n",
       "      <td>176.000000</td>\n",
       "      <td>0.000000</td>\n",
       "      <td>8.000000</td>\n",
       "      <td>1.000000</td>\n",
       "      <td>0.000000</td>\n",
       "      <td>0.000000</td>\n",
       "      <td>0.000000</td>\n",
       "    </tr>\n",
       "    <tr>\n",
       "      <th>25%</th>\n",
       "      <td>24882.250000</td>\n",
       "      <td>2.738070e+05</td>\n",
       "      <td>34687.000000</td>\n",
       "      <td>7.000000</td>\n",
       "      <td>2739.500000</td>\n",
       "      <td>190.000000</td>\n",
       "      <td>1.000000</td>\n",
       "      <td>0.000000</td>\n",
       "      <td>0.000000</td>\n",
       "    </tr>\n",
       "    <tr>\n",
       "      <th>50%</th>\n",
       "      <td>46148.000000</td>\n",
       "      <td>5.440370e+05</td>\n",
       "      <td>63579.500000</td>\n",
       "      <td>11.000000</td>\n",
       "      <td>5403.000000</td>\n",
       "      <td>207.000000</td>\n",
       "      <td>1.000000</td>\n",
       "      <td>0.000000</td>\n",
       "      <td>0.000000</td>\n",
       "    </tr>\n",
       "    <tr>\n",
       "      <th>75%</th>\n",
       "      <td>69426.000000</td>\n",
       "      <td>7.992640e+05</td>\n",
       "      <td>90815.000000</td>\n",
       "      <td>13.000000</td>\n",
       "      <td>8121.000000</td>\n",
       "      <td>371.000000</td>\n",
       "      <td>1.000000</td>\n",
       "      <td>1.000000</td>\n",
       "      <td>0.000000</td>\n",
       "    </tr>\n",
       "    <tr>\n",
       "      <th>max</th>\n",
       "      <td>92508.000000</td>\n",
       "      <td>1.089219e+06</td>\n",
       "      <td>132865.000000</td>\n",
       "      <td>17.000000</td>\n",
       "      <td>10573.000000</td>\n",
       "      <td>508.000000</td>\n",
       "      <td>2.000000</td>\n",
       "      <td>1.000000</td>\n",
       "      <td>1.000000</td>\n",
       "    </tr>\n",
       "  </tbody>\n",
       "</table>\n",
       "</div>"
      ],
      "text/plain": [
       "            user_id    session_id        item_id     category  product_type  \\\n",
       "count   1780.000000  1.780000e+03    1780.000000  1780.000000   1780.000000   \n",
       "mean   46729.493820  5.467858e+05   63532.398876    10.260112   5367.814888   \n",
       "std    26387.962825  3.087378e+05   36639.606662     4.840605   3077.228646   \n",
       "min       10.000000  1.694000e+03     176.000000     0.000000      8.000000   \n",
       "25%    24882.250000  2.738070e+05   34687.000000     7.000000   2739.500000   \n",
       "50%    46148.000000  5.440370e+05   63579.500000    11.000000   5403.000000   \n",
       "75%    69426.000000  7.992640e+05   90815.000000    13.000000   8121.000000   \n",
       "max    92508.000000  1.089219e+06  132865.000000    17.000000  10573.000000   \n",
       "\n",
       "          app_code   os_version        is_4G     is_click  \n",
       "count  1780.000000  1780.000000  1780.000000  1780.000000  \n",
       "mean    244.198876     0.988202     0.342697     0.048315  \n",
       "std     124.634935     0.685000     0.474744     0.214490  \n",
       "min       1.000000     0.000000     0.000000     0.000000  \n",
       "25%     190.000000     1.000000     0.000000     0.000000  \n",
       "50%     207.000000     1.000000     0.000000     0.000000  \n",
       "75%     371.000000     1.000000     1.000000     0.000000  \n",
       "max     508.000000     2.000000     1.000000     1.000000  "
      ]
     },
     "execution_count": 38,
     "metadata": {},
     "output_type": "execute_result"
    }
   ],
   "source": [
    "X.describe()"
   ]
  },
  {
   "cell_type": "code",
   "execution_count": 39,
   "id": "5b2cafec",
   "metadata": {},
   "outputs": [],
   "source": [
    "X1 = X.drop(['os_version','server_time','device_type','impression_time'],axis=1)"
   ]
  },
  {
   "cell_type": "code",
   "execution_count": 40,
   "id": "fb6364d3",
   "metadata": {},
   "outputs": [
    {
     "data": {
      "text/html": [
       "<div>\n",
       "<style scoped>\n",
       "    .dataframe tbody tr th:only-of-type {\n",
       "        vertical-align: middle;\n",
       "    }\n",
       "\n",
       "    .dataframe tbody tr th {\n",
       "        vertical-align: top;\n",
       "    }\n",
       "\n",
       "    .dataframe thead th {\n",
       "        text-align: right;\n",
       "    }\n",
       "</style>\n",
       "<table border=\"1\" class=\"dataframe\">\n",
       "  <thead>\n",
       "    <tr style=\"text-align: right;\">\n",
       "      <th></th>\n",
       "      <th>user_id</th>\n",
       "      <th>session_id</th>\n",
       "      <th>item_id</th>\n",
       "      <th>category</th>\n",
       "      <th>product_type</th>\n",
       "      <th>app_code</th>\n",
       "      <th>is_4G</th>\n",
       "      <th>is_click</th>\n",
       "    </tr>\n",
       "  </thead>\n",
       "  <tbody>\n",
       "    <tr>\n",
       "      <th>0</th>\n",
       "      <td>87862.0</td>\n",
       "      <td>268465.0</td>\n",
       "      <td>44459.0</td>\n",
       "      <td>11.0</td>\n",
       "      <td>3040.0</td>\n",
       "      <td>422.0</td>\n",
       "      <td>0</td>\n",
       "      <td>0</td>\n",
       "    </tr>\n",
       "    <tr>\n",
       "      <th>1</th>\n",
       "      <td>63410.0</td>\n",
       "      <td>268465.0</td>\n",
       "      <td>44459.0</td>\n",
       "      <td>12.0</td>\n",
       "      <td>6822.0</td>\n",
       "      <td>467.0</td>\n",
       "      <td>1</td>\n",
       "      <td>1</td>\n",
       "    </tr>\n",
       "    <tr>\n",
       "      <th>2</th>\n",
       "      <td>71748.0</td>\n",
       "      <td>268465.0</td>\n",
       "      <td>44459.0</td>\n",
       "      <td>17.0</td>\n",
       "      <td>1619.0</td>\n",
       "      <td>259.0</td>\n",
       "      <td>1</td>\n",
       "      <td>0</td>\n",
       "    </tr>\n",
       "    <tr>\n",
       "      <th>3</th>\n",
       "      <td>69209.0</td>\n",
       "      <td>268465.0</td>\n",
       "      <td>44459.0</td>\n",
       "      <td>13.0</td>\n",
       "      <td>5264.0</td>\n",
       "      <td>244.0</td>\n",
       "      <td>1</td>\n",
       "      <td>0</td>\n",
       "    </tr>\n",
       "    <tr>\n",
       "      <th>4</th>\n",
       "      <td>62873.0</td>\n",
       "      <td>268465.0</td>\n",
       "      <td>44459.0</td>\n",
       "      <td>17.0</td>\n",
       "      <td>10239.0</td>\n",
       "      <td>473.0</td>\n",
       "      <td>0</td>\n",
       "      <td>0</td>\n",
       "    </tr>\n",
       "  </tbody>\n",
       "</table>\n",
       "</div>"
      ],
      "text/plain": [
       "   user_id  session_id  item_id  category  product_type  app_code  is_4G  \\\n",
       "0  87862.0    268465.0  44459.0      11.0        3040.0     422.0      0   \n",
       "1  63410.0    268465.0  44459.0      12.0        6822.0     467.0      1   \n",
       "2  71748.0    268465.0  44459.0      17.0        1619.0     259.0      1   \n",
       "3  69209.0    268465.0  44459.0      13.0        5264.0     244.0      1   \n",
       "4  62873.0    268465.0  44459.0      17.0       10239.0     473.0      0   \n",
       "\n",
       "   is_click  \n",
       "0         0  \n",
       "1         1  \n",
       "2         0  \n",
       "3         0  \n",
       "4         0  "
      ]
     },
     "execution_count": 40,
     "metadata": {},
     "output_type": "execute_result"
    }
   ],
   "source": [
    "X1.head()"
   ]
  },
  {
   "cell_type": "code",
   "execution_count": 41,
   "id": "46e0b561",
   "metadata": {},
   "outputs": [],
   "source": [
    "from sklearn.preprocessing import MinMaxScaler"
   ]
  },
  {
   "cell_type": "code",
   "execution_count": 42,
   "id": "48aec759",
   "metadata": {},
   "outputs": [],
   "source": [
    "min_max = MinMaxScaler()"
   ]
  },
  {
   "cell_type": "code",
   "execution_count": 43,
   "id": "572498b9",
   "metadata": {},
   "outputs": [],
   "source": [
    "X1 = min_max.fit_transform(X1)"
   ]
  },
  {
   "cell_type": "code",
   "execution_count": 44,
   "id": "1f055bac",
   "metadata": {},
   "outputs": [
    {
     "data": {
      "text/plain": [
       "numpy.ndarray"
      ]
     },
     "execution_count": 44,
     "metadata": {},
     "output_type": "execute_result"
    }
   ],
   "source": [
    "type(X1)"
   ]
  },
  {
   "cell_type": "code",
   "execution_count": 45,
   "id": "6767e391",
   "metadata": {},
   "outputs": [
    {
     "data": {
      "text/plain": [
       "Index(['server_time', 'device_type', 'user_id', 'session_id', 'item_id',\n",
       "       'item_price', 'category', 'product_type', 'impression_time', 'app_code',\n",
       "       'os_version', 'is_4G', 'is_click'],\n",
       "      dtype='object')"
      ]
     },
     "execution_count": 45,
     "metadata": {},
     "output_type": "execute_result"
    }
   ],
   "source": [
    "data.columns"
   ]
  },
  {
   "cell_type": "code",
   "execution_count": 46,
   "id": "9fd6a821",
   "metadata": {},
   "outputs": [],
   "source": [
    "X1 = pd.DataFrame(X1,columns=['user_id', 'session_id','item_id', 'category', 'product_type', 'app_code', 'is_4G', 'is_click'])"
   ]
  },
  {
   "cell_type": "code",
   "execution_count": 47,
   "id": "b3e76c36",
   "metadata": {},
   "outputs": [
    {
     "data": {
      "text/html": [
       "<div>\n",
       "<style scoped>\n",
       "    .dataframe tbody tr th:only-of-type {\n",
       "        vertical-align: middle;\n",
       "    }\n",
       "\n",
       "    .dataframe tbody tr th {\n",
       "        vertical-align: top;\n",
       "    }\n",
       "\n",
       "    .dataframe thead th {\n",
       "        text-align: right;\n",
       "    }\n",
       "</style>\n",
       "<table border=\"1\" class=\"dataframe\">\n",
       "  <thead>\n",
       "    <tr style=\"text-align: right;\">\n",
       "      <th></th>\n",
       "      <th>user_id</th>\n",
       "      <th>session_id</th>\n",
       "      <th>item_id</th>\n",
       "      <th>category</th>\n",
       "      <th>product_type</th>\n",
       "      <th>app_code</th>\n",
       "      <th>is_4G</th>\n",
       "      <th>is_click</th>\n",
       "    </tr>\n",
       "  </thead>\n",
       "  <tbody>\n",
       "    <tr>\n",
       "      <th>count</th>\n",
       "      <td>1780.000000</td>\n",
       "      <td>1780.000000</td>\n",
       "      <td>1780.000000</td>\n",
       "      <td>1780.000000</td>\n",
       "      <td>1780.000000</td>\n",
       "      <td>1780.000000</td>\n",
       "      <td>1780.000000</td>\n",
       "      <td>1780.000000</td>\n",
       "    </tr>\n",
       "    <tr>\n",
       "      <th>mean</th>\n",
       "      <td>0.505087</td>\n",
       "      <td>0.501222</td>\n",
       "      <td>0.477480</td>\n",
       "      <td>0.603536</td>\n",
       "      <td>0.507318</td>\n",
       "      <td>0.479682</td>\n",
       "      <td>0.342697</td>\n",
       "      <td>0.048315</td>\n",
       "    </tr>\n",
       "    <tr>\n",
       "      <th>std</th>\n",
       "      <td>0.285281</td>\n",
       "      <td>0.283890</td>\n",
       "      <td>0.276131</td>\n",
       "      <td>0.284741</td>\n",
       "      <td>0.291266</td>\n",
       "      <td>0.245828</td>\n",
       "      <td>0.474744</td>\n",
       "      <td>0.214490</td>\n",
       "    </tr>\n",
       "    <tr>\n",
       "      <th>min</th>\n",
       "      <td>0.000000</td>\n",
       "      <td>0.000000</td>\n",
       "      <td>0.000000</td>\n",
       "      <td>0.000000</td>\n",
       "      <td>0.000000</td>\n",
       "      <td>0.000000</td>\n",
       "      <td>0.000000</td>\n",
       "      <td>0.000000</td>\n",
       "    </tr>\n",
       "    <tr>\n",
       "      <th>25%</th>\n",
       "      <td>0.268895</td>\n",
       "      <td>0.250213</td>\n",
       "      <td>0.260089</td>\n",
       "      <td>0.411765</td>\n",
       "      <td>0.258542</td>\n",
       "      <td>0.372781</td>\n",
       "      <td>0.000000</td>\n",
       "      <td>0.000000</td>\n",
       "    </tr>\n",
       "    <tr>\n",
       "      <th>50%</th>\n",
       "      <td>0.498800</td>\n",
       "      <td>0.498695</td>\n",
       "      <td>0.477835</td>\n",
       "      <td>0.647059</td>\n",
       "      <td>0.510648</td>\n",
       "      <td>0.406312</td>\n",
       "      <td>0.000000</td>\n",
       "      <td>0.000000</td>\n",
       "    </tr>\n",
       "    <tr>\n",
       "      <th>75%</th>\n",
       "      <td>0.750459</td>\n",
       "      <td>0.733381</td>\n",
       "      <td>0.683094</td>\n",
       "      <td>0.764706</td>\n",
       "      <td>0.767913</td>\n",
       "      <td>0.729783</td>\n",
       "      <td>1.000000</td>\n",
       "      <td>0.000000</td>\n",
       "    </tr>\n",
       "    <tr>\n",
       "      <th>max</th>\n",
       "      <td>1.000000</td>\n",
       "      <td>1.000000</td>\n",
       "      <td>1.000000</td>\n",
       "      <td>1.000000</td>\n",
       "      <td>1.000000</td>\n",
       "      <td>1.000000</td>\n",
       "      <td>1.000000</td>\n",
       "      <td>1.000000</td>\n",
       "    </tr>\n",
       "  </tbody>\n",
       "</table>\n",
       "</div>"
      ],
      "text/plain": [
       "           user_id   session_id      item_id     category  product_type  \\\n",
       "count  1780.000000  1780.000000  1780.000000  1780.000000   1780.000000   \n",
       "mean      0.505087     0.501222     0.477480     0.603536      0.507318   \n",
       "std       0.285281     0.283890     0.276131     0.284741      0.291266   \n",
       "min       0.000000     0.000000     0.000000     0.000000      0.000000   \n",
       "25%       0.268895     0.250213     0.260089     0.411765      0.258542   \n",
       "50%       0.498800     0.498695     0.477835     0.647059      0.510648   \n",
       "75%       0.750459     0.733381     0.683094     0.764706      0.767913   \n",
       "max       1.000000     1.000000     1.000000     1.000000      1.000000   \n",
       "\n",
       "          app_code        is_4G     is_click  \n",
       "count  1780.000000  1780.000000  1780.000000  \n",
       "mean      0.479682     0.342697     0.048315  \n",
       "std       0.245828     0.474744     0.214490  \n",
       "min       0.000000     0.000000     0.000000  \n",
       "25%       0.372781     0.000000     0.000000  \n",
       "50%       0.406312     0.000000     0.000000  \n",
       "75%       0.729783     1.000000     0.000000  \n",
       "max       1.000000     1.000000     1.000000  "
      ]
     },
     "execution_count": 47,
     "metadata": {},
     "output_type": "execute_result"
    }
   ],
   "source": [
    "X1.describe()"
   ]
  },
  {
   "cell_type": "markdown",
   "id": "4feda947",
   "metadata": {},
   "source": [
    "# standard scaling"
   ]
  },
  {
   "cell_type": "code",
   "execution_count": 48,
   "id": "d2498162",
   "metadata": {},
   "outputs": [
    {
     "data": {
      "text/html": [
       "<div>\n",
       "<style scoped>\n",
       "    .dataframe tbody tr th:only-of-type {\n",
       "        vertical-align: middle;\n",
       "    }\n",
       "\n",
       "    .dataframe tbody tr th {\n",
       "        vertical-align: top;\n",
       "    }\n",
       "\n",
       "    .dataframe thead th {\n",
       "        text-align: right;\n",
       "    }\n",
       "</style>\n",
       "<table border=\"1\" class=\"dataframe\">\n",
       "  <thead>\n",
       "    <tr style=\"text-align: right;\">\n",
       "      <th></th>\n",
       "      <th>user_id</th>\n",
       "      <th>session_id</th>\n",
       "      <th>item_id</th>\n",
       "      <th>category</th>\n",
       "      <th>product_type</th>\n",
       "      <th>app_code</th>\n",
       "      <th>os_version</th>\n",
       "      <th>is_4G</th>\n",
       "      <th>is_click</th>\n",
       "    </tr>\n",
       "  </thead>\n",
       "  <tbody>\n",
       "    <tr>\n",
       "      <th>count</th>\n",
       "      <td>1780.000000</td>\n",
       "      <td>1.780000e+03</td>\n",
       "      <td>1780.000000</td>\n",
       "      <td>1780.000000</td>\n",
       "      <td>1780.000000</td>\n",
       "      <td>1780.000000</td>\n",
       "      <td>1780.000000</td>\n",
       "      <td>1780.000000</td>\n",
       "      <td>1780.000000</td>\n",
       "    </tr>\n",
       "    <tr>\n",
       "      <th>mean</th>\n",
       "      <td>46729.493820</td>\n",
       "      <td>5.467858e+05</td>\n",
       "      <td>63532.398876</td>\n",
       "      <td>10.260112</td>\n",
       "      <td>5367.814888</td>\n",
       "      <td>244.198876</td>\n",
       "      <td>0.988202</td>\n",
       "      <td>0.342697</td>\n",
       "      <td>0.048315</td>\n",
       "    </tr>\n",
       "    <tr>\n",
       "      <th>std</th>\n",
       "      <td>26387.962825</td>\n",
       "      <td>3.087378e+05</td>\n",
       "      <td>36639.606662</td>\n",
       "      <td>4.840605</td>\n",
       "      <td>3077.228646</td>\n",
       "      <td>124.634935</td>\n",
       "      <td>0.685000</td>\n",
       "      <td>0.474744</td>\n",
       "      <td>0.214490</td>\n",
       "    </tr>\n",
       "    <tr>\n",
       "      <th>min</th>\n",
       "      <td>10.000000</td>\n",
       "      <td>1.694000e+03</td>\n",
       "      <td>176.000000</td>\n",
       "      <td>0.000000</td>\n",
       "      <td>8.000000</td>\n",
       "      <td>1.000000</td>\n",
       "      <td>0.000000</td>\n",
       "      <td>0.000000</td>\n",
       "      <td>0.000000</td>\n",
       "    </tr>\n",
       "    <tr>\n",
       "      <th>25%</th>\n",
       "      <td>24882.250000</td>\n",
       "      <td>2.738070e+05</td>\n",
       "      <td>34687.000000</td>\n",
       "      <td>7.000000</td>\n",
       "      <td>2739.500000</td>\n",
       "      <td>190.000000</td>\n",
       "      <td>1.000000</td>\n",
       "      <td>0.000000</td>\n",
       "      <td>0.000000</td>\n",
       "    </tr>\n",
       "    <tr>\n",
       "      <th>50%</th>\n",
       "      <td>46148.000000</td>\n",
       "      <td>5.440370e+05</td>\n",
       "      <td>63579.500000</td>\n",
       "      <td>11.000000</td>\n",
       "      <td>5403.000000</td>\n",
       "      <td>207.000000</td>\n",
       "      <td>1.000000</td>\n",
       "      <td>0.000000</td>\n",
       "      <td>0.000000</td>\n",
       "    </tr>\n",
       "    <tr>\n",
       "      <th>75%</th>\n",
       "      <td>69426.000000</td>\n",
       "      <td>7.992640e+05</td>\n",
       "      <td>90815.000000</td>\n",
       "      <td>13.000000</td>\n",
       "      <td>8121.000000</td>\n",
       "      <td>371.000000</td>\n",
       "      <td>1.000000</td>\n",
       "      <td>1.000000</td>\n",
       "      <td>0.000000</td>\n",
       "    </tr>\n",
       "    <tr>\n",
       "      <th>max</th>\n",
       "      <td>92508.000000</td>\n",
       "      <td>1.089219e+06</td>\n",
       "      <td>132865.000000</td>\n",
       "      <td>17.000000</td>\n",
       "      <td>10573.000000</td>\n",
       "      <td>508.000000</td>\n",
       "      <td>2.000000</td>\n",
       "      <td>1.000000</td>\n",
       "      <td>1.000000</td>\n",
       "    </tr>\n",
       "  </tbody>\n",
       "</table>\n",
       "</div>"
      ],
      "text/plain": [
       "            user_id    session_id        item_id     category  product_type  \\\n",
       "count   1780.000000  1.780000e+03    1780.000000  1780.000000   1780.000000   \n",
       "mean   46729.493820  5.467858e+05   63532.398876    10.260112   5367.814888   \n",
       "std    26387.962825  3.087378e+05   36639.606662     4.840605   3077.228646   \n",
       "min       10.000000  1.694000e+03     176.000000     0.000000      8.000000   \n",
       "25%    24882.250000  2.738070e+05   34687.000000     7.000000   2739.500000   \n",
       "50%    46148.000000  5.440370e+05   63579.500000    11.000000   5403.000000   \n",
       "75%    69426.000000  7.992640e+05   90815.000000    13.000000   8121.000000   \n",
       "max    92508.000000  1.089219e+06  132865.000000    17.000000  10573.000000   \n",
       "\n",
       "          app_code   os_version        is_4G     is_click  \n",
       "count  1780.000000  1780.000000  1780.000000  1780.000000  \n",
       "mean    244.198876     0.988202     0.342697     0.048315  \n",
       "std     124.634935     0.685000     0.474744     0.214490  \n",
       "min       1.000000     0.000000     0.000000     0.000000  \n",
       "25%     190.000000     1.000000     0.000000     0.000000  \n",
       "50%     207.000000     1.000000     0.000000     0.000000  \n",
       "75%     371.000000     1.000000     1.000000     0.000000  \n",
       "max     508.000000     2.000000     1.000000     1.000000  "
      ]
     },
     "execution_count": 48,
     "metadata": {},
     "output_type": "execute_result"
    }
   ],
   "source": [
    "X.describe()"
   ]
  },
  {
   "cell_type": "code",
   "execution_count": 49,
   "id": "822805e4",
   "metadata": {},
   "outputs": [],
   "source": [
    "X2 = X.drop(['os_version','server_time','device_type','impression_time'],axis=1)"
   ]
  },
  {
   "cell_type": "code",
   "execution_count": 50,
   "id": "465815b1",
   "metadata": {},
   "outputs": [],
   "source": [
    "from sklearn.preprocessing import StandardScaler"
   ]
  },
  {
   "cell_type": "code",
   "execution_count": 51,
   "id": "42d564d4",
   "metadata": {},
   "outputs": [],
   "source": [
    "std_scl = StandardScaler()"
   ]
  },
  {
   "cell_type": "code",
   "execution_count": 52,
   "id": "6cbce846",
   "metadata": {},
   "outputs": [],
   "source": [
    "X2 = std_scl.fit_transform(X2)"
   ]
  },
  {
   "cell_type": "code",
   "execution_count": 53,
   "id": "f7994526",
   "metadata": {},
   "outputs": [
    {
     "data": {
      "text/plain": [
       "numpy.ndarray"
      ]
     },
     "execution_count": 53,
     "metadata": {},
     "output_type": "execute_result"
    }
   ],
   "source": [
    "type(X2)"
   ]
  },
  {
   "cell_type": "code",
   "execution_count": 54,
   "id": "f0f620dc",
   "metadata": {},
   "outputs": [],
   "source": [
    "X2 = pd.DataFrame(X2,columns=['user_id', 'session_id', 'item_id', 'category', 'product_type', 'app_code', 'is_4G', 'is_click'])"
   ]
  },
  {
   "cell_type": "code",
   "execution_count": 55,
   "id": "3ae4e373",
   "metadata": {},
   "outputs": [
    {
     "data": {
      "text/html": [
       "<div>\n",
       "<style scoped>\n",
       "    .dataframe tbody tr th:only-of-type {\n",
       "        vertical-align: middle;\n",
       "    }\n",
       "\n",
       "    .dataframe tbody tr th {\n",
       "        vertical-align: top;\n",
       "    }\n",
       "\n",
       "    .dataframe thead th {\n",
       "        text-align: right;\n",
       "    }\n",
       "</style>\n",
       "<table border=\"1\" class=\"dataframe\">\n",
       "  <thead>\n",
       "    <tr style=\"text-align: right;\">\n",
       "      <th></th>\n",
       "      <th>user_id</th>\n",
       "      <th>session_id</th>\n",
       "      <th>item_id</th>\n",
       "      <th>category</th>\n",
       "      <th>product_type</th>\n",
       "      <th>app_code</th>\n",
       "      <th>is_4G</th>\n",
       "      <th>is_click</th>\n",
       "    </tr>\n",
       "  </thead>\n",
       "  <tbody>\n",
       "    <tr>\n",
       "      <th>count</th>\n",
       "      <td>1.780000e+03</td>\n",
       "      <td>1.780000e+03</td>\n",
       "      <td>1.780000e+03</td>\n",
       "      <td>1.780000e+03</td>\n",
       "      <td>1.780000e+03</td>\n",
       "      <td>1.780000e+03</td>\n",
       "      <td>1.780000e+03</td>\n",
       "      <td>1.780000e+03</td>\n",
       "    </tr>\n",
       "    <tr>\n",
       "      <th>mean</th>\n",
       "      <td>-8.183217e-17</td>\n",
       "      <td>5.987720e-18</td>\n",
       "      <td>7.983626e-17</td>\n",
       "      <td>1.097749e-16</td>\n",
       "      <td>2.594679e-17</td>\n",
       "      <td>9.181170e-17</td>\n",
       "      <td>3.991813e-18</td>\n",
       "      <td>-1.995907e-18</td>\n",
       "    </tr>\n",
       "    <tr>\n",
       "      <th>std</th>\n",
       "      <td>1.000281e+00</td>\n",
       "      <td>1.000281e+00</td>\n",
       "      <td>1.000281e+00</td>\n",
       "      <td>1.000281e+00</td>\n",
       "      <td>1.000281e+00</td>\n",
       "      <td>1.000281e+00</td>\n",
       "      <td>1.000281e+00</td>\n",
       "      <td>1.000281e+00</td>\n",
       "    </tr>\n",
       "    <tr>\n",
       "      <th>min</th>\n",
       "      <td>-1.770983e+00</td>\n",
       "      <td>-1.766045e+00</td>\n",
       "      <td>-1.729664e+00</td>\n",
       "      <td>-2.120188e+00</td>\n",
       "      <td>-1.742256e+00</td>\n",
       "      <td>-1.951838e+00</td>\n",
       "      <td>-7.220578e-01</td>\n",
       "      <td>-2.253163e-01</td>\n",
       "    </tr>\n",
       "    <tr>\n",
       "      <th>25%</th>\n",
       "      <td>-8.281573e-01</td>\n",
       "      <td>-8.844253e-01</td>\n",
       "      <td>-7.874949e-01</td>\n",
       "      <td>-6.736820e-01</td>\n",
       "      <td>-8.543575e-01</td>\n",
       "      <td>-4.349832e-01</td>\n",
       "      <td>-7.220578e-01</td>\n",
       "      <td>-2.253163e-01</td>\n",
       "    </tr>\n",
       "    <tr>\n",
       "      <th>50%</th>\n",
       "      <td>-2.204252e-02</td>\n",
       "      <td>-8.905908e-03</td>\n",
       "      <td>1.285886e-03</td>\n",
       "      <td>1.528932e-01</td>\n",
       "      <td>1.143724e-02</td>\n",
       "      <td>-2.985465e-01</td>\n",
       "      <td>-7.220578e-01</td>\n",
       "      <td>-2.253163e-01</td>\n",
       "    </tr>\n",
       "    <tr>\n",
       "      <th>75%</th>\n",
       "      <td>8.603500e-01</td>\n",
       "      <td>8.180052e-01</td>\n",
       "      <td>7.448297e-01</td>\n",
       "      <td>5.661808e-01</td>\n",
       "      <td>8.949477e-01</td>\n",
       "      <td>1.017666e+00</td>\n",
       "      <td>1.384931e+00</td>\n",
       "      <td>-2.253163e-01</td>\n",
       "    </tr>\n",
       "    <tr>\n",
       "      <th>max</th>\n",
       "      <td>1.735313e+00</td>\n",
       "      <td>1.757432e+00</td>\n",
       "      <td>1.892817e+00</td>\n",
       "      <td>1.392756e+00</td>\n",
       "      <td>1.691993e+00</td>\n",
       "      <td>2.117185e+00</td>\n",
       "      <td>1.384931e+00</td>\n",
       "      <td>4.438206e+00</td>\n",
       "    </tr>\n",
       "  </tbody>\n",
       "</table>\n",
       "</div>"
      ],
      "text/plain": [
       "            user_id    session_id       item_id      category  product_type  \\\n",
       "count  1.780000e+03  1.780000e+03  1.780000e+03  1.780000e+03  1.780000e+03   \n",
       "mean  -8.183217e-17  5.987720e-18  7.983626e-17  1.097749e-16  2.594679e-17   \n",
       "std    1.000281e+00  1.000281e+00  1.000281e+00  1.000281e+00  1.000281e+00   \n",
       "min   -1.770983e+00 -1.766045e+00 -1.729664e+00 -2.120188e+00 -1.742256e+00   \n",
       "25%   -8.281573e-01 -8.844253e-01 -7.874949e-01 -6.736820e-01 -8.543575e-01   \n",
       "50%   -2.204252e-02 -8.905908e-03  1.285886e-03  1.528932e-01  1.143724e-02   \n",
       "75%    8.603500e-01  8.180052e-01  7.448297e-01  5.661808e-01  8.949477e-01   \n",
       "max    1.735313e+00  1.757432e+00  1.892817e+00  1.392756e+00  1.691993e+00   \n",
       "\n",
       "           app_code         is_4G      is_click  \n",
       "count  1.780000e+03  1.780000e+03  1.780000e+03  \n",
       "mean   9.181170e-17  3.991813e-18 -1.995907e-18  \n",
       "std    1.000281e+00  1.000281e+00  1.000281e+00  \n",
       "min   -1.951838e+00 -7.220578e-01 -2.253163e-01  \n",
       "25%   -4.349832e-01 -7.220578e-01 -2.253163e-01  \n",
       "50%   -2.985465e-01 -7.220578e-01 -2.253163e-01  \n",
       "75%    1.017666e+00  1.384931e+00 -2.253163e-01  \n",
       "max    2.117185e+00  1.384931e+00  4.438206e+00  "
      ]
     },
     "execution_count": 55,
     "metadata": {},
     "output_type": "execute_result"
    }
   ],
   "source": [
    "X2.describe()"
   ]
  },
  {
   "cell_type": "code",
   "execution_count": null,
   "id": "85b34cf9",
   "metadata": {},
   "outputs": [],
   "source": []
  },
  {
   "cell_type": "code",
   "execution_count": null,
   "id": "b21496a6",
   "metadata": {},
   "outputs": [],
   "source": []
  }
 ],
 "metadata": {
  "kernelspec": {
   "display_name": "Python 3 (ipykernel)",
   "language": "python",
   "name": "python3"
  },
  "language_info": {
   "codemirror_mode": {
    "name": "ipython",
    "version": 3
   },
   "file_extension": ".py",
   "mimetype": "text/x-python",
   "name": "python",
   "nbconvert_exporter": "python",
   "pygments_lexer": "ipython3",
   "version": "3.10.9"
  }
 },
 "nbformat": 4,
 "nbformat_minor": 5
}
