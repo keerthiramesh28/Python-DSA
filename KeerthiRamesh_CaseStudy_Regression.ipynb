{
 "cells": [
  {
   "cell_type": "markdown",
   "id": "df0a5f76",
   "metadata": {},
   "source": [
    "# Case Study on Regression"
   ]
  },
  {
   "cell_type": "code",
   "execution_count": 1,
   "id": "9790e502",
   "metadata": {},
   "outputs": [],
   "source": [
    "# import required libraries\n",
    "\n",
    "import pandas as pd\n",
    "import numpy as np\n",
    "import matplotlib.pyplot as plt\n",
    "import seaborn as sns\n",
    "from sklearn.model_selection import train_test_split\n",
    "from sklearn.linear_model import LinearRegression\n",
    "from sklearn.linear_model import Lasso\n",
    "from sklearn.metrics import mean_squared_error,r2_score"
   ]
  },
  {
   "cell_type": "code",
   "execution_count": 2,
   "id": "14065e49",
   "metadata": {},
   "outputs": [
    {
     "data": {
      "text/html": [
       "<div>\n",
       "<style scoped>\n",
       "    .dataframe tbody tr th:only-of-type {\n",
       "        vertical-align: middle;\n",
       "    }\n",
       "\n",
       "    .dataframe tbody tr th {\n",
       "        vertical-align: top;\n",
       "    }\n",
       "\n",
       "    .dataframe thead th {\n",
       "        text-align: right;\n",
       "    }\n",
       "</style>\n",
       "<table border=\"1\" class=\"dataframe\">\n",
       "  <thead>\n",
       "    <tr style=\"text-align: right;\">\n",
       "      <th></th>\n",
       "      <th>Year</th>\n",
       "      <th>Price</th>\n",
       "    </tr>\n",
       "  </thead>\n",
       "  <tbody>\n",
       "    <tr>\n",
       "      <th>0</th>\n",
       "      <td>2018</td>\n",
       "      <td>465000</td>\n",
       "    </tr>\n",
       "    <tr>\n",
       "      <th>1</th>\n",
       "      <td>2019</td>\n",
       "      <td>755000</td>\n",
       "    </tr>\n",
       "    <tr>\n",
       "      <th>2</th>\n",
       "      <td>2019</td>\n",
       "      <td>700000</td>\n",
       "    </tr>\n",
       "    <tr>\n",
       "      <th>3</th>\n",
       "      <td>2018</td>\n",
       "      <td>465000</td>\n",
       "    </tr>\n",
       "    <tr>\n",
       "      <th>4</th>\n",
       "      <td>2018</td>\n",
       "      <td>465000</td>\n",
       "    </tr>\n",
       "  </tbody>\n",
       "</table>\n",
       "</div>"
      ],
      "text/plain": [
       "   Year   Price\n",
       "0  2018  465000\n",
       "1  2019  755000\n",
       "2  2019  700000\n",
       "3  2018  465000\n",
       "4  2018  465000"
      ]
     },
     "execution_count": 2,
     "metadata": {},
     "output_type": "execute_result"
    }
   ],
   "source": [
    "#load the dataset and display\n",
    "\n",
    "data = pd.read_csv(r'C:\\Users\\HP\\Desktop\\Python DSA\\assignments\\New folder\\car_age_price.csv')\n",
    "data.head()"
   ]
  },
  {
   "cell_type": "markdown",
   "id": "c63eae11",
   "metadata": {},
   "source": [
    "# Basic details of the dataset"
   ]
  },
  {
   "cell_type": "code",
   "execution_count": 3,
   "id": "1fb76662",
   "metadata": {},
   "outputs": [
    {
     "data": {
      "text/plain": [
       "(112, 2)"
      ]
     },
     "execution_count": 3,
     "metadata": {},
     "output_type": "execute_result"
    }
   ],
   "source": [
    "data.shape"
   ]
  },
  {
   "cell_type": "code",
   "execution_count": 4,
   "id": "0bfa2551",
   "metadata": {},
   "outputs": [
    {
     "name": "stdout",
     "output_type": "stream",
     "text": [
      "<class 'pandas.core.frame.DataFrame'>\n",
      "RangeIndex: 112 entries, 0 to 111\n",
      "Data columns (total 2 columns):\n",
      " #   Column  Non-Null Count  Dtype\n",
      "---  ------  --------------  -----\n",
      " 0   Year    112 non-null    int64\n",
      " 1   Price   112 non-null    int64\n",
      "dtypes: int64(2)\n",
      "memory usage: 1.9 KB\n"
     ]
    }
   ],
   "source": [
    "data.info()"
   ]
  },
  {
   "cell_type": "code",
   "execution_count": 5,
   "id": "0ba6cd74",
   "metadata": {},
   "outputs": [
    {
     "data": {
      "text/plain": [
       "Year     int64\n",
       "Price    int64\n",
       "dtype: object"
      ]
     },
     "execution_count": 5,
     "metadata": {},
     "output_type": "execute_result"
    }
   ],
   "source": [
    "data.dtypes"
   ]
  },
  {
   "cell_type": "code",
   "execution_count": 6,
   "id": "84185cc0",
   "metadata": {},
   "outputs": [
    {
     "data": {
      "text/html": [
       "<div>\n",
       "<style scoped>\n",
       "    .dataframe tbody tr th:only-of-type {\n",
       "        vertical-align: middle;\n",
       "    }\n",
       "\n",
       "    .dataframe tbody tr th {\n",
       "        vertical-align: top;\n",
       "    }\n",
       "\n",
       "    .dataframe thead th {\n",
       "        text-align: right;\n",
       "    }\n",
       "</style>\n",
       "<table border=\"1\" class=\"dataframe\">\n",
       "  <thead>\n",
       "    <tr style=\"text-align: right;\">\n",
       "      <th></th>\n",
       "      <th>Year</th>\n",
       "      <th>Price</th>\n",
       "    </tr>\n",
       "  </thead>\n",
       "  <tbody>\n",
       "    <tr>\n",
       "      <th>count</th>\n",
       "      <td>112.000000</td>\n",
       "      <td>112.000000</td>\n",
       "    </tr>\n",
       "    <tr>\n",
       "      <th>mean</th>\n",
       "      <td>2016.669643</td>\n",
       "      <td>483866.044643</td>\n",
       "    </tr>\n",
       "    <tr>\n",
       "      <th>std</th>\n",
       "      <td>1.629616</td>\n",
       "      <td>91217.450533</td>\n",
       "    </tr>\n",
       "    <tr>\n",
       "      <th>min</th>\n",
       "      <td>2013.000000</td>\n",
       "      <td>300000.000000</td>\n",
       "    </tr>\n",
       "    <tr>\n",
       "      <th>25%</th>\n",
       "      <td>2015.000000</td>\n",
       "      <td>423750.000000</td>\n",
       "    </tr>\n",
       "    <tr>\n",
       "      <th>50%</th>\n",
       "      <td>2017.000000</td>\n",
       "      <td>500000.000000</td>\n",
       "    </tr>\n",
       "    <tr>\n",
       "      <th>75%</th>\n",
       "      <td>2017.000000</td>\n",
       "      <td>550000.000000</td>\n",
       "    </tr>\n",
       "    <tr>\n",
       "      <th>max</th>\n",
       "      <td>2020.000000</td>\n",
       "      <td>755000.000000</td>\n",
       "    </tr>\n",
       "  </tbody>\n",
       "</table>\n",
       "</div>"
      ],
      "text/plain": [
       "              Year          Price\n",
       "count   112.000000     112.000000\n",
       "mean   2016.669643  483866.044643\n",
       "std       1.629616   91217.450533\n",
       "min    2013.000000  300000.000000\n",
       "25%    2015.000000  423750.000000\n",
       "50%    2017.000000  500000.000000\n",
       "75%    2017.000000  550000.000000\n",
       "max    2020.000000  755000.000000"
      ]
     },
     "execution_count": 6,
     "metadata": {},
     "output_type": "execute_result"
    }
   ],
   "source": [
    "data.describe()"
   ]
  },
  {
   "cell_type": "code",
   "execution_count": 7,
   "id": "a782aadd",
   "metadata": {},
   "outputs": [
    {
     "data": {
      "image/png": "[encoded data removed]",
      "text/plain": [
       "<Figure size 640x480 with 1 Axes>"
      ]
     },
     "metadata": {},
     "output_type": "display_data"
    }
   ],
   "source": [
    "#plot bar graph to show the relationhip between price and year\n",
    "\n",
    "plt.bar(data['Year'],data['Price'],color='g')\n",
    "plt.title('YEAR vs PRICE',size=20,c='r',)\n",
    "plt.xlabel('Year')\n",
    "plt.ylabel('Price')\n",
    "plt.show()\n"
   ]
  },
  {
   "cell_type": "markdown",
   "id": "bef843b1",
   "metadata": {},
   "source": [
    "# Data Preprocessing"
   ]
  },
  {
   "cell_type": "markdown",
   "id": "dc84d96e",
   "metadata": {},
   "source": [
    "# 1. Missing value handling "
   ]
  },
  {
   "cell_type": "code",
   "execution_count": 8,
   "id": "68f4177f",
   "metadata": {},
   "outputs": [
    {
     "data": {
      "text/plain": [
       "Year     0\n",
       "Price    0\n",
       "dtype: int64"
      ]
     },
     "execution_count": 8,
     "metadata": {},
     "output_type": "execute_result"
    }
   ],
   "source": [
    "#check for missing vaue\n",
    "\n",
    "data.isna().sum()"
   ]
  },
  {
   "cell_type": "markdown",
   "id": "ea533dae",
   "metadata": {},
   "source": [
    "There is no missing values in the dataset."
   ]
  },
  {
   "cell_type": "code",
   "execution_count": 9,
   "id": "55ca90c2",
   "metadata": {},
   "outputs": [
    {
     "data": {
      "image/png": "[encoded data removed]",
      "text/plain": [
       "<Figure size 1000x300 with 2 Axes>"
      ]
     },
     "metadata": {},
     "output_type": "display_data"
    }
   ],
   "source": [
    "fregraph = data.select_dtypes(include=['int'])\n",
    "fregraph.hist(figsize=(10,3))\n",
    "plt.show()"
   ]
  },
  {
   "cell_type": "markdown",
   "id": "6d98bc18",
   "metadata": {},
   "source": [
    "# 2. Outlier detection"
   ]
  },
  {
   "cell_type": "code",
   "execution_count": 10,
   "id": "a1b5d3ba",
   "metadata": {},
   "outputs": [
    {
     "data": {
      "image/png": "[encoded data removed]",
      "text/plain": [
       "<Figure size 500x300 with 1 Axes>"
      ]
     },
     "metadata": {},
     "output_type": "display_data"
    },
    {
     "data": {
      "image/png": "[encoded data removed]",
      "text/plain": [
       "<Figure size 500x300 with 1 Axes>"
      ]
     },
     "metadata": {},
     "output_type": "display_data"
    }
   ],
   "source": [
    "# check for outliers\n",
    "\n",
    "num_cols = ['Year', 'Price']\n",
    "for i in num_cols:\n",
    "    plt.figure(figsize=(5,3))\n",
    "    sns.boxplot(data[i])\n",
    "    plt.title(i)"
   ]
  },
  {
   "cell_type": "markdown",
   "id": "a3ab1ae9",
   "metadata": {},
   "source": [
    "There is one outlier in price column of the data set."
   ]
  },
  {
   "cell_type": "markdown",
   "id": "9c22387e",
   "metadata": {},
   "source": [
    "# 3. Encoding "
   ]
  },
  {
   "cell_type": "markdown",
   "id": "c1f5c24f",
   "metadata": {},
   "source": [
    "No encoding is required for this data set."
   ]
  },
  {
   "cell_type": "markdown",
   "id": "c4aa3d6c",
   "metadata": {},
   "source": [
    "# 4. Correlation Heatmap"
   ]
  },
  {
   "cell_type": "code",
   "execution_count": 11,
   "id": "55077ad3",
   "metadata": {},
   "outputs": [
    {
     "data": {
      "image/png": "[encoded data removed]",
      "text/plain": [
       "<Figure size 500x300 with 2 Axes>"
      ]
     },
     "metadata": {},
     "output_type": "display_data"
    }
   ],
   "source": [
    "corrmatrix = data.corr()\n",
    "plt.figure(figsize=(5,3))\n",
    "sns.heatmap(corrmatrix,annot = True)\n",
    "plt.show()"
   ]
  },
  {
   "cell_type": "markdown",
   "id": "830b08f2",
   "metadata": {},
   "source": [
    "# 5. Scaling"
   ]
  },
  {
   "cell_type": "markdown",
   "id": "6e7ed344",
   "metadata": {},
   "source": [
    "No scaling is required for this data set."
   ]
  },
  {
   "cell_type": "code",
   "execution_count": 12,
   "id": "1118e0b5",
   "metadata": {},
   "outputs": [],
   "source": [
    "#splitting the data\n",
    "\n",
    "x = data.drop(['Price'],axis =1)  # features or independent variables \n",
    "y = data['Price'] # target or dependent variable"
   ]
  },
  {
   "cell_type": "code",
   "execution_count": 13,
   "id": "8dd1aad8",
   "metadata": {},
   "outputs": [],
   "source": [
    "#training and testing\n",
    "\n",
    "x_train,x_test,y_train,y_test = train_test_split(x,y,test_size=.20,random_state=28)"
   ]
  },
  {
   "cell_type": "code",
   "execution_count": 14,
   "id": "dd3e8a32",
   "metadata": {},
   "outputs": [
    {
     "data": {
      "text/plain": [
       "(     Year\n",
       " 73   2013\n",
       " 75   2017\n",
       " 6    2016\n",
       " 33   2017\n",
       " 106  2015\n",
       " ..    ...\n",
       " 3    2018\n",
       " 32   2017\n",
       " 22   2015\n",
       " 5    2015\n",
       " 1    2019\n",
       " \n",
       " [89 rows x 1 columns],\n",
       "      Year\n",
       " 52   2013\n",
       " 63   2017\n",
       " 0    2018\n",
       " 107  2016\n",
       " 61   2017\n",
       " 14   2017\n",
       " 30   2019\n",
       " 97   2020\n",
       " 53   2013\n",
       " 35   2017\n",
       " 82   2015\n",
       " 40   2019\n",
       " 9    2017\n",
       " 98   2020\n",
       " 13   2019\n",
       " 71   2017\n",
       " 81   2014\n",
       " 18   2019\n",
       " 48   2016\n",
       " 21   2019\n",
       " 49   2018\n",
       " 50   2013\n",
       " 36   2017)"
      ]
     },
     "execution_count": 14,
     "metadata": {},
     "output_type": "execute_result"
    }
   ],
   "source": [
    "#display x_train and x_test\n",
    "\n",
    "x_train,x_test"
   ]
  },
  {
   "cell_type": "code",
   "execution_count": 15,
   "id": "c786d6de",
   "metadata": {},
   "outputs": [
    {
     "data": {
      "text/plain": [
       "(73     320000\n",
       " 75     490000\n",
       " 6      425000\n",
       " 33     550000\n",
       " 106    300000\n",
       "         ...  \n",
       " 3      465000\n",
       " 32     550000\n",
       " 22     434999\n",
       " 5      350000\n",
       " 1      755000\n",
       " Name: Price, Length: 89, dtype: int64,\n",
       " 52     345000\n",
       " 63     595000\n",
       " 0      465000\n",
       " 107    375000\n",
       " 61     540000\n",
       " 14     475000\n",
       " 30     650000\n",
       " 97     640000\n",
       " 53     345000\n",
       " 35     550000\n",
       " 82     390000\n",
       " 40     525000\n",
       " 9      575000\n",
       " 98     700000\n",
       " 13     600000\n",
       " 71     490000\n",
       " 81     390000\n",
       " 18     500000\n",
       " 48     396000\n",
       " 21     500000\n",
       " 49     600000\n",
       " 50     325000\n",
       " 36     550000\n",
       " Name: Price, dtype: int64)"
      ]
     },
     "execution_count": 15,
     "metadata": {},
     "output_type": "execute_result"
    }
   ],
   "source": [
    "#display y_train and y_test\n",
    "\n",
    "y_train,y_test"
   ]
  },
  {
   "cell_type": "markdown",
   "id": "4281aaaf",
   "metadata": {},
   "source": [
    "# Linear Regression Model"
   ]
  },
  {
   "cell_type": "code",
   "execution_count": 16,
   "id": "6c33109b",
   "metadata": {},
   "outputs": [],
   "source": [
    "lr = LinearRegression()\n",
    "Linear_model = lr.fit(x_train,y_train)"
   ]
  },
  {
   "cell_type": "code",
   "execution_count": 17,
   "id": "5f781da7",
   "metadata": {},
   "outputs": [],
   "source": [
    "y_pred_lin = Linear_model.predict(x_test)"
   ]
  },
  {
   "cell_type": "code",
   "execution_count": 18,
   "id": "45aaaa52",
   "metadata": {},
   "outputs": [
    {
     "data": {
      "text/plain": [
       "(array([321689.11862396, 497209.93665481, 541090.14116251, 453329.7321471 ,\n",
       "        497209.93665481, 497209.93665481, 584970.34567022, 628850.55017793,\n",
       "        321689.11862396, 497209.93665481, 409449.52763939, 584970.34567022,\n",
       "        497209.93665481, 628850.55017793, 584970.34567022, 497209.93665481,\n",
       "        365569.32313167, 584970.34567022, 453329.7321471 , 584970.34567022,\n",
       "        541090.14116251, 321689.11862396, 497209.93665481]),\n",
       " 52     345000\n",
       " 63     595000\n",
       " 0      465000\n",
       " 107    375000\n",
       " 61     540000\n",
       " 14     475000\n",
       " 30     650000\n",
       " 97     640000\n",
       " 53     345000\n",
       " 35     550000\n",
       " 82     390000\n",
       " 40     525000\n",
       " 9      575000\n",
       " 98     700000\n",
       " 13     600000\n",
       " 71     490000\n",
       " 81     390000\n",
       " 18     500000\n",
       " 48     396000\n",
       " 21     500000\n",
       " 49     600000\n",
       " 50     325000\n",
       " 36     550000\n",
       " Name: Price, dtype: int64)"
      ]
     },
     "execution_count": 18,
     "metadata": {},
     "output_type": "execute_result"
    }
   ],
   "source": [
    "#display y predict and y test\n",
    "\n",
    "y_pred_lin,y_test"
   ]
  },
  {
   "cell_type": "code",
   "execution_count": 19,
   "id": "748391c4",
   "metadata": {},
   "outputs": [
    {
     "name": "stdout",
     "output_type": "stream",
     "text": [
      "Linear MSE =  3130300571.490845\n",
      "Linear r2 =  0.7179045607182537\n"
     ]
    }
   ],
   "source": [
    "#Mean squared error (MSE) and R-Squared error\n",
    "\n",
    "Linear_mse = mean_squared_error(y_test,y_pred_lin)\n",
    "Linear_r2 = r2_score(y_test,y_pred_lin)\n",
    "\n",
    "print('Linear MSE = ',Linear_mse)\n",
    "print('Linear r2 = ',Linear_r2)"
   ]
  },
  {
   "cell_type": "code",
   "execution_count": 20,
   "id": "bebf079e",
   "metadata": {},
   "outputs": [],
   "source": [
    "import warnings \n",
    "warnings.filterwarnings('ignore', category=UserWarning)"
   ]
  },
  {
   "cell_type": "code",
   "execution_count": 21,
   "id": "3b4847ed",
   "metadata": {},
   "outputs": [
    {
     "name": "stdout",
     "output_type": "stream",
     "text": [
      "Linear model predicted price =  [716610.95919335]\n"
     ]
    }
   ],
   "source": [
    "#predicting price\n",
    "\n",
    "Linear_model_predicted_price =Linear_model.predict([[2022]])\n",
    "print('Linear model predicted price = ', Linear_model_predicted_price)"
   ]
  },
  {
   "cell_type": "markdown",
   "id": "24f8464f",
   "metadata": {},
   "source": [
    "# Lasso Regression Model"
   ]
  },
  {
   "cell_type": "code",
   "execution_count": 22,
   "id": "d2c807c8",
   "metadata": {},
   "outputs": [],
   "source": [
    "ls = Lasso(alpha = 0.01)\n",
    "Lasso_model = ls.fit(x_train,y_train)"
   ]
  },
  {
   "cell_type": "code",
   "execution_count": 23,
   "id": "d0735862",
   "metadata": {},
   "outputs": [],
   "source": [
    "y_pred_lasso =Lasso_model.predict(x_test)"
   ]
  },
  {
   "cell_type": "code",
   "execution_count": 24,
   "id": "6b3c1f03",
   "metadata": {},
   "outputs": [
    {
     "data": {
      "text/plain": [
       "(array([321689.135516  , 497209.93475445, 541090.13456406, 453329.73494484,\n",
       "        497209.93475445, 497209.93475445, 584970.33437365, 628850.53418326,\n",
       "        321689.135516  , 497209.93475445, 409449.53513522, 584970.33437365,\n",
       "        497209.93475445, 628850.53418326, 584970.33437365, 497209.93475445,\n",
       "        365569.33532561, 584970.33437365, 453329.73494484, 584970.33437365,\n",
       "        541090.13456406, 321689.135516  , 497209.93475445]),\n",
       " 52     345000\n",
       " 63     595000\n",
       " 0      465000\n",
       " 107    375000\n",
       " 61     540000\n",
       " 14     475000\n",
       " 30     650000\n",
       " 97     640000\n",
       " 53     345000\n",
       " 35     550000\n",
       " 82     390000\n",
       " 40     525000\n",
       " 9      575000\n",
       " 98     700000\n",
       " 13     600000\n",
       " 71     490000\n",
       " 81     390000\n",
       " 18     500000\n",
       " 48     396000\n",
       " 21     500000\n",
       " 49     600000\n",
       " 50     325000\n",
       " 36     550000\n",
       " Name: Price, dtype: int64)"
      ]
     },
     "execution_count": 24,
     "metadata": {},
     "output_type": "execute_result"
    }
   ],
   "source": [
    "#display y predict and y test\n",
    "\n",
    "y_pred_lasso,y_test"
   ]
  },
  {
   "cell_type": "code",
   "execution_count": 25,
   "id": "b72374f1",
   "metadata": {},
   "outputs": [
    {
     "name": "stdout",
     "output_type": "stream",
     "text": [
      "Lasso MSE =  3130300523.9990044\n",
      "Lasso r2 =  0.7179045649981085\n"
     ]
    }
   ],
   "source": [
    "#Mean squared error (MSE) and R-Squared error\n",
    "\n",
    "Lasso_mse = mean_squared_error(y_test,y_pred_lasso)\n",
    "Lasso_r2 = r2_score(y_test,y_pred_lasso)\n",
    "\n",
    "print('Lasso MSE = ',Lasso_mse)\n",
    "print('Lasso r2 = ',Lasso_r2)"
   ]
  },
  {
   "cell_type": "code",
   "execution_count": 26,
   "id": "4bd78291",
   "metadata": {},
   "outputs": [
    {
     "name": "stdout",
     "output_type": "stream",
     "text": [
      "Lasso model predicted price =  [716610.93380249]\n"
     ]
    }
   ],
   "source": [
    "#predicting price\n",
    "\n",
    "Lasso_model_predicted_price =Lasso_model.predict([[2022]])\n",
    "print('Lasso model predicted price = ',Lasso_model_predicted_price)"
   ]
  },
  {
   "cell_type": "markdown",
   "id": "798ec745",
   "metadata": {},
   "source": [
    "# Selecting model"
   ]
  },
  {
   "cell_type": "code",
   "execution_count": 27,
   "id": "ef371b62",
   "metadata": {},
   "outputs": [
    {
     "name": "stdout",
     "output_type": "stream",
     "text": [
      "Selected model - Lasso Regression model\n"
     ]
    }
   ],
   "source": [
    "if Linear_mse < Lasso_mse and Linear_r2 > Lasso_r2:\n",
    "    selected_model = Linear_model\n",
    "    print(\"Selected model - Linear Regression model\")\n",
    "elif Lasso_mse < Linear_mse and Lasso_r2 > Linear_r2:\n",
    "    selected_model = Lasso_model\n",
    "    print(\"Selected model - Lasso Regression model\")\n",
    "else:\n",
    "    print(\"Both models have similar performance.\")"
   ]
  },
  {
   "cell_type": "markdown",
   "id": "acdf1ebb",
   "metadata": {},
   "source": [
    "Lasso is slightly performing better than Linear."
   ]
  },
  {
   "cell_type": "code",
   "execution_count": 28,
   "id": "aec9d226",
   "metadata": {},
   "outputs": [
    {
     "name": "stdout",
     "output_type": "stream",
     "text": [
      "The possible price of a 2022 model second-hand Hyundai grand i10 car is :  716610.9338024855\n"
     ]
    }
   ],
   "source": [
    "print('The possible price of a 2022 model second-hand Hyundai grand i10 car is : ', Lasso_model_predicted_price[0])"
   ]
  },
  {
   "cell_type": "code",
   "execution_count": null,
   "id": "12d1a2c1",
   "metadata": {},
   "outputs": [],
   "source": []
  },
  {
   "cell_type": "code",
   "execution_count": null,
   "id": "87521548",
   "metadata": {},
   "outputs": [],
   "source": []
  }
 ],
 "metadata": {
  "kernelspec": {
   "display_name": "Python 3 (ipykernel)",
   "language": "python",
   "name": "python3"
  },
  "language_info": {
   "codemirror_mode": {
    "name": "ipython",
    "version": 3
   },
   "file_extension": ".py",
   "mimetype": "text/x-python",
   "name": "python",
   "nbconvert_exporter": "python",
   "pygments_lexer": "ipython3",
   "version": "3.10.9"
  }
 },
 "nbformat": 4,
 "nbformat_minor": 5
}
